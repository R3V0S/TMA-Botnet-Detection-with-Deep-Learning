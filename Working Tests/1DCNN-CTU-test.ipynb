{
 "cells": [
  {
   "cell_type": "code",
   "execution_count": 80,
   "id": "41cdec25",
   "metadata": {},
   "outputs": [],
   "source": [
    "import os, time\n",
    "import pandas as pd\n",
    "import numpy as np\n",
    "import matplotlib.pyplot as plt\n",
    "import seaborn as sns\n",
    "from keras.models import Sequential\n",
    "from keras.layers import Dense, Dropout, Flatten, Reshape, GlobalAveragePooling1D, Conv2D, MaxPooling2D, Conv1D, MaxPooling1D\n",
    "from keras.wrappers.scikit_learn import KerasClassifier\n",
    "from keras.callbacks import EarlyStopping\n",
    "from sklearn import preprocessing\n",
    "from keras.utils import np_utils\n",
    "from sklearn.model_selection import train_test_split\n",
    "from sklearn.preprocessing import MinMaxScaler\n",
    "from scipy import stats\n",
    "from sklearn.metrics import accuracy_score\n",
    "\n",
    "from sklearn import metrics\n",
    "from sklearn.metrics import classification_report\n",
    "from sklearn import preprocessing"
   ]
  },
  {
   "cell_type": "code",
   "execution_count": 81,
   "id": "438380e8",
   "metadata": {},
   "outputs": [
    {
     "name": "stdout",
     "output_type": "stream",
     "text": [
      "(107251, 15)\n"
     ]
    }
   ],
   "source": [
    "data_path=os.getcwd()+'\\\\data'\n",
    "df=pd.read_csv(data_path+'\\\\CTU13_LabelCluster.csv', sep=',')\n",
    "print(df.shape)"
   ]
  },
  {
   "cell_type": "code",
   "execution_count": 82,
   "id": "942d5b72",
   "metadata": {
    "scrolled": false
   },
   "outputs": [
    {
     "name": "stdout",
     "output_type": "stream",
     "text": [
      "---- Head before transformation ----\n",
      "                      StartTime           Dur Proto        SrcAddr  Sport  \\\n",
      "0  jueves, 18 de agosto de 2011  8.306214e+14   tcp  147.32.84.202   1078   \n",
      "1  jueves, 18 de agosto de 2011  4.977205e+15   tcp    88100184137  13121   \n",
      "2  jueves, 18 de agosto de 2011  9.712881e+15   tcp    147.32.84.2     80   \n",
      "3  jueves, 18 de agosto de 2011  8.999964e+15   tcp   90.181.84.58  54518   \n",
      "4  jueves, 18 de agosto de 2011  3.875344e+14   tcp  147.32.86.116  19083   \n",
      "\n",
      "   Dir        DstAddr  Dport    State  sTos  dTos  TotPkts   TotBytes  \\\n",
      "0  <?>   65.54.89.106     80  RPA_FPA     0     0    43065   40974671   \n",
      "1  <?>   147.32.85.26  62860   RPA_PA     0     0   326962  132430976   \n",
      "2  <?>  218.75.208.58   3088     PA_A     0     0     7912    7356876   \n",
      "3  <?>   147.32.84.19    993    PA_PA     0     0       48       5728   \n",
      "4   ?>   151.82.9.107   2185     RPA_     0     0        7        456   \n",
      "\n",
      "   SrcBytes            Label  \n",
      "0   1033777  flow=Background  \n",
      "1   7076046  flow=Background  \n",
      "2   7153650  flow=Background  \n",
      "3      3008  flow=Background  \n",
      "4       456  flow=Background  \n"
     ]
    }
   ],
   "source": [
    "print('---- Head before transformation ----')\n",
    "print(df.head())"
   ]
  },
  {
   "cell_type": "code",
   "execution_count": 83,
   "id": "adac0645",
   "metadata": {},
   "outputs": [
    {
     "data": {
      "text/plain": [
       "flow=Background                     63831\n",
       "flow=To-Background                  31451\n",
       "flow=From-Botnet                     8164\n",
       "flow=From-Normal                     2709\n",
       "flow=Background-google-analytics     1039\n",
       "flow=From-Background                   48\n",
       "flow=To-Normal                          8\n",
       "flow=Normal                             1\n",
       "Name: Label, dtype: int64"
      ]
     },
     "execution_count": 83,
     "metadata": {},
     "output_type": "execute_result"
    }
   ],
   "source": [
    "df['Label'].value_counts()"
   ]
  },
  {
   "cell_type": "code",
   "execution_count": 84,
   "id": "506a71b5",
   "metadata": {},
   "outputs": [
    {
     "name": "stdout",
     "output_type": "stream",
     "text": [
      "---- Data types before transformation ----\n",
      "StartTime     object\n",
      "Dur          float64\n",
      "Proto         object\n",
      "SrcAddr       object\n",
      "Sport         object\n",
      "Dir           object\n",
      "DstAddr       object\n",
      "Dport         object\n",
      "State         object\n",
      "sTos           int64\n",
      "dTos           int64\n",
      "TotPkts        int64\n",
      "TotBytes       int64\n",
      "SrcBytes       int64\n",
      "Label         object\n",
      "dtype: object\n"
     ]
    }
   ],
   "source": [
    "print('---- Data types before transformation ----')\n",
    "print(df.dtypes)"
   ]
  },
  {
   "cell_type": "code",
   "execution_count": 85,
   "id": "b28bddc4",
   "metadata": {},
   "outputs": [],
   "source": [
    "# Transform to numeric values (Proto, Dir, <<State>>, Label)\n",
    "# Proto\n",
    "PROTO = \"Proto_Encoded\"\n",
    "protoLE = preprocessing.LabelEncoder()\n",
    "df[PROTO] = protoLE.fit_transform(df[\"Proto\"].values.ravel())\n",
    "\n",
    "# Dir\n",
    "DIR = \"Dir_Encoded\"\n",
    "dirLE = preprocessing.LabelEncoder()\n",
    "df[DIR] = dirLE.fit_transform(df[\"Dir\"].values.ravel())\n",
    "\n",
    "# Label\n",
    "LABEL = \"Label_Encoded\"\n",
    "le = preprocessing.LabelEncoder()\n",
    "df[LABEL] = le.fit_transform(df[\"Label\"].values.ravel())"
   ]
  },
  {
   "cell_type": "code",
   "execution_count": 86,
   "id": "24713b2c",
   "metadata": {},
   "outputs": [],
   "source": [
    "df.drop(['StartTime','State' ,'SrcAddr','DstAddr', 'Proto', 'Dir'], axis=1, inplace= True)"
   ]
  },
  {
   "cell_type": "code",
   "execution_count": 87,
   "id": "1b5dd2fa",
   "metadata": {},
   "outputs": [
    {
     "name": "stderr",
     "output_type": "stream",
     "text": [
      "C:\\Users\\Arnau\\AppData\\Local\\Temp\\ipykernel_11880\\794676061.py:1: FutureWarning: In a future version of pandas all arguments of DataFrame.dropna will be keyword-only.\n",
      "  df = df.dropna('columns')\n"
     ]
    }
   ],
   "source": [
    "df = df.dropna('columns')\n",
    "df = df[[col for col in df if df[col].nunique() > 1]]"
   ]
  },
  {
   "cell_type": "code",
   "execution_count": 88,
   "id": "f9baf296",
   "metadata": {},
   "outputs": [
    {
     "name": "stdout",
     "output_type": "stream",
     "text": [
      "---- Data types after transformation ----\n",
      "Dur              float64\n",
      "sTos               int64\n",
      "dTos               int64\n",
      "TotPkts            int64\n",
      "TotBytes           int64\n",
      "SrcBytes           int64\n",
      "Label             object\n",
      "Proto_Encoded      int32\n",
      "Dir_Encoded        int32\n",
      "Label_Encoded      int32\n",
      "dtype: object\n",
      "---- Head after transformation ----\n",
      "            Dur  sTos  dTos  TotPkts   TotBytes  SrcBytes            Label  \\\n",
      "0  8.306214e+14     0     0    43065   40974671   1033777  flow=Background   \n",
      "1  4.977205e+15     0     0   326962  132430976   7076046  flow=Background   \n",
      "2  9.712881e+15     0     0     7912    7356876   7153650  flow=Background   \n",
      "3  8.999964e+15     0     0       48       5728      3008  flow=Background   \n",
      "4  3.875344e+14     0     0        7        456       456  flow=Background   \n",
      "\n",
      "   Proto_Encoded  Dir_Encoded  Label_Encoded  \n",
      "0             10            4              0  \n",
      "1             10            4              0  \n",
      "2             10            4              0  \n",
      "3             10            4              0  \n",
      "4             10            1              0  \n"
     ]
    }
   ],
   "source": [
    "print('---- Data types after transformation ----')\n",
    "print(df.dtypes)\n",
    "print('---- Head after transformation ----')\n",
    "print(df.head())"
   ]
  },
  {
   "cell_type": "code",
   "execution_count": 89,
   "id": "14786f66",
   "metadata": {
    "scrolled": false
   },
   "outputs": [
    {
     "name": "stderr",
     "output_type": "stream",
     "text": [
      "C:\\Users\\Arnau\\AppData\\Local\\Temp\\ipykernel_11880\\904150308.py:1: FutureWarning: The default value of numeric_only in DataFrame.corr is deprecated. In a future version, it will default to False. Select only valid columns or specify the value of numeric_only to silence this warning.\n",
      "  corr = df.corr()\n"
     ]
    },
    {
     "data": {
      "image/png": "[encoded data removed]",
      "text/plain": [
       "<Figure size 1500x1200 with 2 Axes>"
      ]
     },
     "metadata": {},
     "output_type": "display_data"
    }
   ],
   "source": [
    "corr = df.corr()\n",
    "plt.figure(figsize=(15,12))\n",
    "sns.heatmap(corr)\n",
    "plt.show()"
   ]
  },
  {
   "cell_type": "code",
   "execution_count": 90,
   "id": "b76bb371",
   "metadata": {},
   "outputs": [
    {
     "name": "stdout",
     "output_type": "stream",
     "text": [
      "Shape before feature reduction:  (107251, 10)\n"
     ]
    }
   ],
   "source": [
    "print('Shape before feature reduction: ', df.shape)"
   ]
  },
  {
   "cell_type": "code",
   "execution_count": 92,
   "id": "3ec6f5b1",
   "metadata": {
    "scrolled": false
   },
   "outputs": [
    {
     "name": "stdout",
     "output_type": "stream",
     "text": [
      "Features to drop:  []\n",
      "Shape after feature reduction:  (107251, 10)\n",
      "Rows:  107251\n",
      "Features:  10\n"
     ]
    },
    {
     "name": "stderr",
     "output_type": "stream",
     "text": [
      "C:\\Users\\Arnau\\AppData\\Local\\Temp\\ipykernel_11880\\4008394199.py:2: FutureWarning: The default value of numeric_only in DataFrame.corr is deprecated. In a future version, it will default to False. Select only valid columns or specify the value of numeric_only to silence this warning.\n",
      "  corr_matrix = df.corr().abs()\n",
      "C:\\Users\\Arnau\\AppData\\Local\\Temp\\ipykernel_11880\\4008394199.py:3: DeprecationWarning: `np.bool` is a deprecated alias for the builtin `bool`. To silence this warning, use `bool` by itself. Doing this will not modify any behavior and is safe. If you specifically wanted the numpy scalar type, use `np.bool_` here.\n",
      "Deprecated in NumPy 1.20; for more details and guidance: https://numpy.org/devdocs/release/1.20.0-notes.html#deprecations\n",
      "  upper = corr_matrix.where(np.triu(np.ones(corr_matrix.shape), k=1).astype(np.bool))\n"
     ]
    }
   ],
   "source": [
    "cor_thr=0.98\n",
    "corr_matrix = df.corr().abs()\n",
    "upper = corr_matrix.where(np.triu(np.ones(corr_matrix.shape), k=1).astype(np.bool))\n",
    "to_drop = [column for column in upper.columns if any(upper[column] > cor_thr)]\n",
    "print('Features to drop: ', to_drop)\n",
    "for i in to_drop:\n",
    "    df.drop(i,axis = 1,inplace = True)\n",
    "print('Shape after feature reduction: ', df.shape)\n",
    "print('Rows: ', df.shape[0])\n",
    "print('Features: ', df.shape[1])"
   ]
  },
  {
   "cell_type": "code",
   "execution_count": 93,
   "id": "993e0153",
   "metadata": {
    "scrolled": false
   },
   "outputs": [
    {
     "name": "stderr",
     "output_type": "stream",
     "text": [
      "C:\\Users\\Arnau\\AppData\\Local\\Temp\\ipykernel_11880\\400802421.py:15: FutureWarning: Unlike other reduction functions (e.g. `skew`, `kurtosis`), the default behavior of `mode` typically preserves the axis it acts along. In SciPy 1.11.0, this behavior will change: the default value of `keepdims` will become False, the `axis` over which the statistic is taken will be eliminated, and the value None will no longer be accepted. Set `keepdims` to True or False to avoid this warning.\n",
      "  label = stats.mode(df[label_name][i: i + time_steps])[0][0]\n"
     ]
    },
    {
     "name": "stdout",
     "output_type": "stream",
     "text": [
      "-------------BEFORE SPLIT--------------------\n",
      "x_train (2680, 80, 8)\n",
      "y_train (2680,)\n",
      "-------------AFTER SPLIT--------------------\n",
      "x_train (2144, 80, 8)\n",
      "y_train (2144,)\n",
      "X_validation (536, 80, 8)\n",
      "Y_validation (536,)\n"
     ]
    }
   ],
   "source": [
    "def create_segments_and_labels(df, time_steps, step, label_name):\n",
    "    N_FEATURES = df.shape[1] - 2 # Label + Label Encoded\n",
    "    segments = []\n",
    "    labels = []\n",
    "    index_Seg = 0\n",
    "    \n",
    "    for i in range(0, len(df) - time_steps, step): # 80 x 38\n",
    "        seg = []\n",
    "        for column in df:\n",
    "            if (column != 'Label' and column != label_name):\n",
    "                fs = df[column].values[i: i + time_steps]\n",
    "                seg.append(fs)\n",
    "        segments.append(seg)        \n",
    "        # Retrieve the most often used label in this segment\n",
    "        label = stats.mode(df[label_name][i: i + time_steps])[0][0]\n",
    "        labels.append(label)\n",
    "        index_Seg+=1\n",
    "\n",
    "    # Bring the segments into a better shape\n",
    "    reshaped_segments = np.asarray(segments, dtype= np.float32).reshape(-1, time_steps, N_FEATURES)\n",
    "    labels = np.asarray(labels)\n",
    "\n",
    "    return reshaped_segments, labels\n",
    "\n",
    "X_train, Y_train = create_segments_and_labels(df,\n",
    "                                              80,\n",
    "                                              40,\n",
    "                                              LABEL)\n",
    "print('-------------BEFORE SPLIT--------------------')\n",
    "print('x_train', X_train.shape)\n",
    "print('y_train', Y_train.shape)\n",
    "\n",
    "# Split test and train data \n",
    "X_train, X_validation, Y_train, Y_validation = train_test_split(X_train, Y_train, test_size=0.2, stratify=Y_train)\n",
    "print('-------------AFTER SPLIT--------------------')\n",
    "print('x_train', X_train.shape)\n",
    "print('y_train', Y_train.shape)\n",
    "print('X_validation', X_validation.shape)\n",
    "print('Y_validation', Y_validation.shape)\n"
   ]
  },
  {
   "cell_type": "code",
   "execution_count": null,
   "id": "ea07667e",
   "metadata": {},
   "outputs": [],
   "source": [
    "# X_train = np.reshape(X_train, (1, X_train.shape[0], X_train.shape[1]))\n",
    "# X_validation = np.reshape(X_validation, (1, X_validation.shape[0], X_validation.shape[1]))\n",
    "# print('Shape after reshape X_train:', X_train.shape)\n",
    "# print('Shape after reshape X_validation:', X_validation.shape)\n",
    "\n",
    "# Y_train = np_utils.to_categorical(Y_train, 5)\n",
    "# Y_validation = np_utils.to_categorical(Y_validation, 5)\n",
    "# print('New Y_train shape: ', Y_train.shape)\n",
    "# print('New Y_validation shape: ', Y_validation.shape)\n",
    "\n",
    "# Formato actual:\n",
    "    # INPUT: (1, 200k, 38)  --> 1 segmento de 200k rows por 38 features.\n",
    "    # OUTPUT: (200k, 5) --> 200k resultados, 1 por cada segmento, de 5 labels con sus porcentajes.\n",
    "# Problema: y_train tiene que mostrar un resultado en formato (1, 5) 1 row con 5 porcentajes de resultado para cada segmento\n",
    "# Implicación: y_train es el resultado para todo el segmento. En este caso segmento=1=todo dataset. --> INCORRECTO\n",
    "# Replanteamiento:\n",
    "    # formato (200k, 1, 38) --> cada row del dataset es 1 segmento de 1 row con 38 features.\n",
    "    # y_train mostrarà formato (1, 5) 1 solo resultado para 1 segmento de 1 row.\n",
    "    # Problema:\n",
    "        # un modelo con layers que parten de un input = 1 no se puede modelar debido a la falta de downsampling\n",
    "# Solucion:\n",
    "    # FLOW AGREGATION = Segmento --> 1 mismo resultado para todo el segmento\n",
    "    # formato entrada (segmentos, flows, 38)\n",
    "\n",
    "rows_segment, features = X_train.shape[1], X_train.shape[2]\n",
    "num_classes = le.classes_.size\n",
    "print(list(le.classes_))\n",
    "\n",
    "input_shape = (rows_segment*features)\n",
    "print('input_shape:', input_shape)\n",
    "\n",
    "X_train = X_train.reshape(X_train.shape[0], input_shape)\n",
    "print('x_train shape:', X_train.shape)\n",
    "X_validation = X_validation.reshape(X_validation.shape[0], input_shape)\n",
    "print('X_validation shape:', X_validation.shape)\n",
    "\n",
    "\n",
    "# Convert type for Keras otherwise Keras cannot process the data\n",
    "X_train = X_train.astype(\"float32\")\n",
    "X_validation = X_validation.astype(\"float32\")\n",
    "\n",
    "Y_train = Y_train.astype(\"float32\")\n",
    "Y_validation = Y_validation.astype(\"float32\")\n",
    "\n",
    "Y_train = np_utils.to_categorical(Y_train, num_classes)\n",
    "print('New y_train shape: ', Y_train.shape)\n",
    "Y_validation = np_utils.to_categorical(Y_validation, num_classes)\n",
    "print('New Y_validation shape: ', Y_validation.shape)"
   ]
  },
  {
   "cell_type": "code",
   "execution_count": null,
   "id": "231a0d44",
   "metadata": {
    "scrolled": false
   },
   "outputs": [],
   "source": [
    "callback = EarlyStopping(monitor='acc', patience=1)\n",
    "\n",
    "model_odcnn = Sequential()\n",
    "model_odcnn.add(Reshape((rows_segment, features), input_shape=(input_shape,)))\n",
    "model_odcnn.add(Conv1D(100, 10, activation='relu', input_shape=(rows_segment, features)))\n",
    "model_odcnn.add(Conv1D(filters=100, kernel_size=10, activation='relu'))\n",
    "model_odcnn.add(MaxPooling1D(3))   #---> output matrix després de maxpooling es 1/3 de input matrix\n",
    "model_odcnn.add(Conv1D(160, 10, activation='relu'))\n",
    "model_odcnn.add(Conv1D(160, 10, activation='relu'))\n",
    "model_odcnn.add(GlobalAveragePooling1D())    #---> agafa nomes 1 weight de mitja\n",
    "model_odcnn.add(Dropout(0.5))    #---> 50% random de les neurones rebran un weight=0\n",
    "model_odcnn.add(Dense(num_classes, activation='softmax'))   # ---> reduir les 160 prediccions a la probabilitat corresponent entre les labels que tenim\n",
    "print(model_odcnn.summary())\n",
    "\n",
    "\n",
    "model_odcnn.compile(loss='categorical_crossentropy', optimizer='adam', metrics=['accuracy'])\n",
    "\n",
    "history = model_odcnn.fit(X_train,\n",
    "                      Y_train,\n",
    "                      batch_size=400,\n",
    "                      epochs=50,\n",
    "                      callbacks=[callback],\n",
    "                      validation_split=0.2,\n",
    "                      verbose=1)\n",
    "# validation_data=(X_validation,Y_validation)\n",
    "\n",
    "history_dict = history.history\n",
    "history_dict.keys()"
   ]
  },
  {
   "cell_type": "code",
   "execution_count": null,
   "id": "05681753",
   "metadata": {
    "scrolled": false
   },
   "outputs": [],
   "source": [
    "loss = history.history['loss']\n",
    "val_loss = history.history['val_loss']\n",
    "accuracy = history.history['accuracy']\n",
    "val_acc = history.history['val_accuracy']\n",
    "    \n",
    "plt.rcParams['figure.figsize'] = [10, 5]\n",
    "plt.subplot(1, 2, 1)\n",
    "plt.plot(range(0, 50), loss, 'g', label='Training loss', color='red')\n",
    "plt.plot(range(0, 50), val_loss, 'g--', label='Val Training loss', color='green')\n",
    "plt.title('Training loss')\n",
    "plt.xlabel('Epochs')\n",
    "plt.ylabel('Loss')\n",
    "\n",
    "plt.subplot(1, 2, 2)\n",
    "plt.plot(range(0, 50), accuracy, 'g', label='Training acc', color='red')\n",
    "plt.plot(range(0, 50), val_acc, 'g--', label='Training acc', color='green')\n",
    "plt.title('Training accuracy')\n",
    "plt.xlabel('Epochs')\n",
    "plt.ylabel('Accuracy')\n",
    "\n",
    "plt.ylim(0)\n",
    "plt.legend()\n",
    "plt.tight_layout()\n",
    "plt.show()"
   ]
  },
  {
   "cell_type": "code",
   "execution_count": null,
   "id": "2abc5cd1",
   "metadata": {
    "scrolled": false
   },
   "outputs": [],
   "source": [
    "def show_confusion_matrix(validations, predictions):\n",
    "\n",
    "    matrix = metrics.confusion_matrix(validations, predictions)\n",
    "    plt.figure(figsize=(16, 14))\n",
    "    sns.heatmap(matrix,\n",
    "                cmap=\"coolwarm\",\n",
    "                linecolor='white',\n",
    "                linewidths=1,\n",
    "                xticklabels=le.classes_,\n",
    "                yticklabels=le.classes_,\n",
    "                annot=True,\n",
    "                fmt=\"d\")\n",
    "    plt.title(\"Confusion Matrix\")\n",
    "    plt.ylabel(\"True Label\")\n",
    "    plt.xlabel(\"Predicted Label\")\n",
    "    plt.show()\n",
    "    \n",
    "    \n",
    "    \n",
    "score = model_odcnn.evaluate(X_validation, Y_validation, verbose=1)\n",
    "\n",
    "print(\"\\nAccuracy on test data: %0.2f\" % score[1])\n",
    "print(\"\\nLoss on test data: %0.2f\" % score[0])\n",
    "\n",
    "# %%\n",
    "\n",
    "print(\"\\n--- Confusion matrix for test data ---\\n\")\n",
    "\n",
    "y_pred_test = model_odcnn.predict(X_validation)\n",
    "# Take the class with the highest probability from the test predictions\n",
    "max_y_pred_test = np.argmax(y_pred_test, axis=1)\n",
    "max_y_test = np.argmax(Y_validation, axis=1)\n",
    "\n",
    "show_confusion_matrix(max_y_test, max_y_pred_test)"
   ]
  }
 ],
 "metadata": {
  "kernelspec": {
   "display_name": "Python 3 (ipykernel)",
   "language": "python",
   "name": "python3"
  },
  "language_info": {
   "codemirror_mode": {
    "name": "ipython",
    "version": 3
   },
   "file_extension": ".py",
   "mimetype": "text/x-python",
   "name": "python",
   "nbconvert_exporter": "python",
   "pygments_lexer": "ipython3",
   "version": "3.10.0"
  }
 },
 "nbformat": 4,
 "nbformat_minor": 5
}
