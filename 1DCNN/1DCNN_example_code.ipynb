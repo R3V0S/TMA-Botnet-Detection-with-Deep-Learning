{
 "cells": [
  {
   "cell_type": "code",
   "execution_count": 1,
   "id": "06b1c449",
   "metadata": {},
   "outputs": [],
   "source": [
    "from __future__ import print_function\n",
    "\n",
    "import tensorflow as tf\n",
    "from keras.preprocessing import sequence\n",
    "from keras.models import Sequential\n",
    "from keras.layers import Dense, Dropout, Activation, Conv1D, GlobalMaxPooling1D, Embedding\n",
    "from keras.datasets import imdb\n",
    "from keras.utils import plot_model, pad_sequences\n",
    "from keras import optimizers\n",
    "import matplotlib.pyplot as plt\n",
    "import numpy as np\n",
    "from IPython.display import SVG\n",
    "from keras.utils.vis_utils import model_to_dot"
   ]
  },
  {
   "cell_type": "code",
   "execution_count": 2,
   "id": "7bdc7beb",
   "metadata": {},
   "outputs": [
    {
     "name": "stdout",
     "output_type": "stream",
     "text": [
      "Loading data...\n",
      "25000 train sequences\n",
      "25000 test sequences\n",
      "Pad sequences (samples x time)\n",
      "x_train shape: (25000, 800)\n",
      "x_test shape: (25000, 800)\n",
      "Build model...\n"
     ]
    }
   ],
   "source": [
    "#\n",
    "# Get data\n",
    "#\n",
    "print('Loading data...')\n",
    "(x_train, y_train), (x_test, y_test) = imdb.load_data(num_words=10000)\n",
    "test_data = x_test\n",
    "print(len(x_train), 'train sequences')\n",
    "print(len(x_test), 'test sequences')\n",
    "#print(x_train[450])\n",
    "\n",
    "print('Pad sequences (samples x time)')\n",
    "x_train = tf.keras.preprocessing.sequence.pad_sequences(sequences=x_train, maxlen=800)\n",
    "x_test =  tf.keras.preprocessing.sequence.pad_sequences(sequences=x_test, maxlen=800)\n",
    "print('x_train shape:', x_train.shape)\n",
    "print('x_test shape:', x_test.shape)\n",
    "print('Build model...')\n",
    "model = Sequential()"
   ]
  },
  {
   "cell_type": "code",
   "execution_count": 3,
   "id": "c46d5935",
   "metadata": {},
   "outputs": [],
   "source": [
    "#\n",
    "# prepeare model\n",
    "#\n",
    "model.add(Embedding(input_dim=10000, output_dim=100, input_length=800))\n",
    "model.add(Dropout(0.5))\n",
    "model.add(Conv1D(filters=250, kernel_size=3, padding='valid', activation='relu', strides=1))\n",
    "model.add(GlobalMaxPooling1D())\n",
    "model.add(Dense(250))\n",
    "model.add(Dropout(0.5))\n",
    "model.add(Activation('relu'))\n",
    "model.add(Dense(1, activation='sigmoid'))\n",
    "\n",
    "model.compile(loss='binary_crossentropy', optimizer='adam', metrics=['accuracy'])              "
   ]
  },
  {
   "cell_type": "code",
   "execution_count": 7,
   "id": "64c82521",
   "metadata": {},
   "outputs": [
    {
     "name": "stdout",
     "output_type": "stream",
     "text": [
      "Model: \"sequential\"\n",
      "_________________________________________________________________\n",
      " Layer (type)                Output Shape              Param #   \n",
      "=================================================================\n",
      " embedding (Embedding)       (None, 800, 100)          1000000   \n",
      "                                                                 \n",
      " dropout (Dropout)           (None, 800, 100)          0         \n",
      "                                                                 \n",
      " conv1d (Conv1D)             (None, 798, 250)          75250     \n",
      "                                                                 \n",
      " global_max_pooling1d (Globa  (None, 250)              0         \n",
      " lMaxPooling1D)                                                  \n",
      "                                                                 \n",
      " dense (Dense)               (None, 250)               62750     \n",
      "                                                                 \n",
      " dropout_1 (Dropout)         (None, 250)               0         \n",
      "                                                                 \n",
      " activation (Activation)     (None, 250)               0         \n",
      "                                                                 \n",
      " dense_1 (Dense)             (None, 1)                 251       \n",
      "                                                                 \n",
      "=================================================================\n",
      "Total params: 1,138,251\n",
      "Trainable params: 1,138,251\n",
      "Non-trainable params: 0\n",
      "_________________________________________________________________\n"
     ]
    }
   ],
   "source": [
    "model.summary()\n",
    "#SVG(model_to_dot(model,show_shapes = True).create(prog='dot', format='svg'))"
   ]
  },
  {
   "cell_type": "code",
   "execution_count": 8,
   "id": "93eb426e",
   "metadata": {},
   "outputs": [
    {
     "name": "stdout",
     "output_type": "stream",
     "text": [
      "Epoch 1/2\n",
      "782/782 [==============================] - 81s 104ms/step - loss: 0.3712 - accuracy: 0.8330 - val_loss: 0.2868 - val_accuracy: 0.8797\n",
      "Epoch 2/2\n",
      "782/782 [==============================] - 87s 112ms/step - loss: 0.2419 - accuracy: 0.9055 - val_loss: 0.2772 - val_accuracy: 0.8809\n"
     ]
    },
    {
     "data": {
      "text/plain": [
       "dict_keys(['loss', 'accuracy', 'val_loss', 'val_accuracy'])"
      ]
     },
     "execution_count": 8,
     "metadata": {},
     "output_type": "execute_result"
    }
   ],
   "source": [
    "#\n",
    "# Training\n",
    "#\n",
    "history = model.fit(x_train, y_train, batch_size=32, epochs=2, validation_data=(x_test, y_test))\n",
    "history_dict = history.history\n",
    "history_dict.keys()"
   ]
  },
  {
   "cell_type": "code",
   "execution_count": 9,
   "id": "e4f88ebe",
   "metadata": {},
   "outputs": [
    {
     "name": "stdout",
     "output_type": "stream",
     "text": [
      "782/782 [==============================] - 15s 19ms/step - loss: 0.2772 - accuracy: 0.8809\n",
      "Accuracy on test set: [0.2772420644760132, 0.8809199929237366]\n",
      "Test loss: 0.2772420644760132\n",
      "Test accuracy: 0.8809199929237366\n"
     ]
    }
   ],
   "source": [
    "#\n",
    "# evaluation\n",
    "#\n",
    "results = model.evaluate(x_test, y_test)\n",
    "print (\"Accuracy on test set:\" , results)\n",
    "print('Test loss:', results[0])\n",
    "print('Test accuracy:', results[1])"
   ]
  },
  {
   "cell_type": "code",
   "execution_count": 11,
   "id": "7d2b685b",
   "metadata": {},
   "outputs": [
    {
     "name": "stderr",
     "output_type": "stream",
     "text": [
      "C:\\Users\\crist\\AppData\\Local\\Temp\\ipykernel_3488\\4259918040.py:13: UserWarning: color is redundantly defined by the 'color' keyword argument and the fmt string \"bo\" (-> color='b'). The keyword argument will take precedence.\n",
      "  plt.plot(epochs, loss, 'bo', label='Training loss', color='red')\n",
      "C:\\Users\\crist\\AppData\\Local\\Temp\\ipykernel_3488\\4259918040.py:14: UserWarning: color is redundantly defined by the 'color' keyword argument and the fmt string \"b\" (-> color=(0.0, 0.0, 1.0, 1)). The keyword argument will take precedence.\n",
      "  plt.plot(epochs,val_loss , 'b', label='Validation loss', color='green')\n",
      "C:\\Users\\crist\\AppData\\Local\\Temp\\ipykernel_3488\\4259918040.py:21: UserWarning: color is redundantly defined by the 'color' keyword argument and the fmt string \"bo\" (-> color='b'). The keyword argument will take precedence.\n",
      "  plt.plot(epochs, accuracy, 'bo', label='Training acc', color='red')\n",
      "C:\\Users\\crist\\AppData\\Local\\Temp\\ipykernel_3488\\4259918040.py:22: UserWarning: color is redundantly defined by the 'color' keyword argument and the fmt string \"b\" (-> color=(0.0, 0.0, 1.0, 1)). The keyword argument will take precedence.\n",
      "  plt.plot(epochs, val_accuracy, 'b', label='Validation acc', color='green')\n"
     ]
    },
    {
     "data": {
      "image/png": "[encoded data removed]",
      "text/plain": [
       "<Figure size 1000x500 with 2 Axes>"
      ]
     },
     "metadata": {},
     "output_type": "display_data"
    }
   ],
   "source": [
    "#\n",
    "# Plot\n",
    "#\n",
    "val_loss = history.history['val_loss']\n",
    "loss = history.history['loss']\n",
    "accuracy = history.history['accuracy']\n",
    "val_accuracy = history.history['val_accuracy']\n",
    "\n",
    "epochs = range(1, len(accuracy) + 1)\n",
    "\n",
    "plt.rcParams['figure.figsize'] = [10, 5]\n",
    "plt.subplot(1, 2, 1)\n",
    "plt.plot(epochs, loss, 'bo', label='Training loss', color='red')\n",
    "plt.plot(epochs,val_loss , 'b', label='Validation loss', color='green')\n",
    "plt.title('Training and validation loss')\n",
    "plt.xlabel('Epochs')\n",
    "plt.ylabel('Loss')\n",
    "plt.legend()\n",
    "\n",
    "plt.subplot(1, 2, 2)\n",
    "plt.plot(epochs, accuracy, 'bo', label='Training acc', color='red')\n",
    "plt.plot(epochs, val_accuracy, 'b', label='Validation acc', color='green')\n",
    "plt.title('Training and validation accuracy')\n",
    "plt.xlabel('Epochs')\n",
    "plt.ylabel('Accuracy')\n",
    "plt.legend()\n",
    "plt.tight_layout()\n",
    "plt.show()"
   ]
  },
  {
   "cell_type": "code",
   "execution_count": 12,
   "id": "59923ad7",
   "metadata": {},
   "outputs": [],
   "source": [
    "#\n",
    "# PREDICTION\n",
    "#\n",
    "model_prediction = Sequential()\n",
    "model_prediction.add(Embedding(10000, 50, input_length=800))\n",
    "model_prediction.add(Dropout(0.5))\n",
    "model_prediction.add(Conv1D(filters=250, kernel_size=3, padding='valid', activation='relu', strides=1))\n",
    "model_prediction.add(GlobalMaxPooling1D())\n",
    "model_prediction.add(Dense(250))\n",
    "model_prediction.add(Activation('relu'))\n",
    "model_prediction.add(Dense(1))\n",
    "model_prediction.add(Activation('sigmoid'))\n",
    "model_prediction.compile(loss='binary_crossentropy', optimizer='adam', metrics=['accuracy']) "
   ]
  },
  {
   "cell_type": "code",
   "execution_count": 13,
   "id": "75dc3320",
   "metadata": {},
   "outputs": [
    {
     "name": "stdout",
     "output_type": "stream",
     "text": [
      "Model: \"sequential\"\n",
      "_________________________________________________________________\n",
      " Layer (type)                Output Shape              Param #   \n",
      "=================================================================\n",
      " embedding (Embedding)       (None, 800, 100)          1000000   \n",
      "                                                                 \n",
      " dropout (Dropout)           (None, 800, 100)          0         \n",
      "                                                                 \n",
      " conv1d (Conv1D)             (None, 798, 250)          75250     \n",
      "                                                                 \n",
      " global_max_pooling1d (Globa  (None, 250)              0         \n",
      " lMaxPooling1D)                                                  \n",
      "                                                                 \n",
      " dense (Dense)               (None, 250)               62750     \n",
      "                                                                 \n",
      " dropout_1 (Dropout)         (None, 250)               0         \n",
      "                                                                 \n",
      " activation (Activation)     (None, 250)               0         \n",
      "                                                                 \n",
      " dense_1 (Dense)             (None, 1)                 251       \n",
      "                                                                 \n",
      "=================================================================\n",
      "Total params: 1,138,251\n",
      "Trainable params: 1,138,251\n",
      "Non-trainable params: 0\n",
      "_________________________________________________________________\n"
     ]
    }
   ],
   "source": [
    "model.summary()"
   ]
  },
  {
   "cell_type": "code",
   "execution_count": 14,
   "id": "0e7f84d6",
   "metadata": {},
   "outputs": [
    {
     "name": "stdout",
     "output_type": "stream",
     "text": [
      "Epoch 1/3\n",
      "782/782 [==============================] - 56s 71ms/step - loss: 0.4415 - accuracy: 0.7720 - val_loss: 0.2876 - val_accuracy: 0.8807\n",
      "Epoch 2/3\n",
      "782/782 [==============================] - 56s 72ms/step - loss: 0.2623 - accuracy: 0.8933 - val_loss: 0.2631 - val_accuracy: 0.8907\n",
      "Epoch 3/3\n",
      "782/782 [==============================] - 56s 72ms/step - loss: 0.2109 - accuracy: 0.9176 - val_loss: 0.2871 - val_accuracy: 0.8783\n"
     ]
    }
   ],
   "source": [
    "#\n",
    "# training\n",
    "#\n",
    "history = model_prediction.fit(x_train, y_train, batch_size=32, epochs=3, validation_data=(x_test, y_test))"
   ]
  },
  {
   "cell_type": "code",
   "execution_count": 15,
   "id": "24523398",
   "metadata": {},
   "outputs": [
    {
     "name": "stdout",
     "output_type": "stream",
     "text": [
      "782/782 [==============================] - 14s 17ms/step - loss: 0.2772 - accuracy: 0.8809\n",
      "Accuracy on test set: [0.2772420644760132, 0.8809199929237366]\n",
      "Test loss: 0.2772420644760132\n",
      "Test accuracy: 0.8809199929237366\n"
     ]
    }
   ],
   "source": [
    "#\n",
    "# Evaluation\n",
    "#\n",
    "results = model.evaluate(x_test, y_test)\n",
    "print (\"Accuracy on test set:\" , results)\n",
    "print('Test loss:', results[0])\n",
    "print('Test accuracy:', results[1])"
   ]
  },
  {
   "cell_type": "code",
   "execution_count": 16,
   "id": "9cba9bd2",
   "metadata": {},
   "outputs": [
    {
     "name": "stdout",
     "output_type": "stream",
     "text": [
      "782/782 [==============================] - 9s 12ms/step\n"
     ]
    },
    {
     "data": {
      "text/plain": [
       "(array([10314.,  1452.,   891.,   752.,   663.,   673.,   722.,   974.,\n",
       "         1607.,  6952.]),\n",
       " array([3.21550579e-05, 1.00011609e-01, 1.99991077e-01, 2.99970537e-01,\n",
       "        3.99949998e-01, 4.99929428e-01, 5.99908888e-01, 6.99888349e-01,\n",
       "        7.99867809e-01, 8.99847269e-01, 9.99826729e-01]),\n",
       " <BarContainer object of 10 artists>)"
      ]
     },
     "execution_count": 16,
     "metadata": {},
     "output_type": "execute_result"
    },
    {
     "data": {
      "image/png": "[encoded data removed]",
      "text/plain": [
       "<Figure size 1000x500 with 1 Axes>"
      ]
     },
     "metadata": {},
     "output_type": "display_data"
    }
   ],
   "source": [
    "#\n",
    "# Plot\n",
    "#\n",
    "plt.hist(model_prediction.predict(x_test))"
   ]
  },
  {
   "cell_type": "code",
   "execution_count": 17,
   "id": "86b1937b",
   "metadata": {},
   "outputs": [
    {
     "name": "stdout",
     "output_type": "stream",
     "text": [
      "782/782 [==============================] - 9s 12ms/step\n",
      "Predicted score:  735\n"
     ]
    }
   ],
   "source": [
    "#\n",
    "# Prediction\n",
    "#\n",
    "y_pred = model_prediction.predict(x_test)\n",
    "prediction_is_positive = y_pred > 0.5\n",
    "label_is_negative = y_test.reshape((25000,1)) == 0\n",
    "\n",
    "incorrect_cases = np.where(np.logical_and( prediction_is_positive  , label_is_negative ))[0]\n",
    "#print (\"All incorrect cases: \",incorrect_cases[0:])\n",
    "print (\"Predicted score: \", len(incorrect_cases))"
   ]
  }
 ],
 "metadata": {
  "kernelspec": {
   "display_name": "Python 3 (ipykernel)",
   "language": "python",
   "name": "python3"
  },
  "language_info": {
   "codemirror_mode": {
    "name": "ipython",
    "version": 3
   },
   "file_extension": ".py",
   "mimetype": "text/x-python",
   "name": "python",
   "nbconvert_exporter": "python",
   "pygments_lexer": "ipython3",
   "version": "3.10.0"
  }
 },
 "nbformat": 4,
 "nbformat_minor": 5
}
