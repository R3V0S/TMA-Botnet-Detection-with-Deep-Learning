{
 "cells": [
  {
   "cell_type": "code",
   "execution_count": null,
   "id": "06b1c449",
   "metadata": {},
   "outputs": [],
   "source": [
    "#Original imports from the example code\n",
    "from __future__ import print_function\n",
    "import tensorflow as tf\n",
    "from keras.preprocessing import sequence\n",
    "from keras.models import Sequential\n",
    "from keras.layers import Dense, Dropout, Activation, Conv1D, GlobalMaxPooling1D, Embedding\n",
    "from keras.datasets import imdb\n",
    "from keras.utils import plot_model, pad_sequences\n",
    "from keras import optimizers\n",
    "import matplotlib.pyplot as plt\n",
    "import numpy as np\n",
    "from IPython.display import SVG\n",
    "from keras.utils.vis_utils import model_to_dot\n",
    "from sklearn.model_selection import train_test_split\n",
    "from sklearn.preprocessing import MinMaxScaler\n",
    "\n",
    "#Implement the data modification by Arnau N.\n",
    "import os, time\n",
    "import pandas as pd\n",
    "import seaborn as sns"
   ]
  },
  {
   "cell_type": "code",
   "execution_count": null,
   "id": "cc48c7f9",
   "metadata": {},
   "outputs": [],
   "source": [
    "#Importing the data from the CTU-13 .csv file\n",
    "data_path=os.getcwd()+'/data'\n",
    "df=pd.read_csv(data_path+'/dataset.csv', sep=';')\n",
    "print(\"\\n>>> Shape...\\n\")\n",
    "print(df.shape)\n",
    "print(\"\\n>>> Headers...\")\n",
    "print(df.head())"
   ]
  },
  {
   "cell_type": "code",
   "execution_count": null,
   "id": "90525376",
   "metadata": {},
   "outputs": [],
   "source": [
    "print(\"\\n>>> sTos, dTos, Proto, Dir, Label values (only printing Label values) ...\")\n",
    "df['sTos'].value_counts()\n",
    "df['dTos'].value_counts()\n",
    "df['Proto'].value_counts()\n",
    "df['Dir'].value_counts()\n",
    "df['Label'].value_counts()"
   ]
  },
  {
   "cell_type": "code",
   "execution_count": null,
   "id": "b4580317",
   "metadata": {},
   "outputs": [],
   "source": [
    "print(\"\\n>>> Types of different parameters ...\\n\")\n",
    "print(df.dtypes)"
   ]
  },
  {
   "cell_type": "code",
   "execution_count": null,
   "id": "6cc0c852",
   "metadata": {},
   "outputs": [],
   "source": [
    "## DROP COLUMNS NOT NEEDED\n",
    "df.drop('StartTime',axis = 1,inplace= True)\n",
    "df.drop('DstAddr',axis = 1,inplace= True)\n",
    "df.drop('State',axis = 1,inplace= True)\n",
    "df.drop('SrcAddr',axis = 1,inplace= True)\n",
    "print(df.dtypes)"
   ]
  },
  {
   "cell_type": "code",
   "execution_count": null,
   "id": "f17747c1",
   "metadata": {},
   "outputs": [],
   "source": [
    "## MAP STRINGS TO INT\n",
    "pmap = {'udp':0, 'tcp':1, 'icmp':2, 'igmp':3, 'rtcp':4, 'arp':5, 'rtp':6, 'ipv6-icmp':7, 'udt':8, 'rarp':9, 'ipx/spx':10, 'ipv6':11, 'pim':12}\n",
    "df['Proto'] = df['Proto'].map(pmap)\n",
    "\n",
    "dirmap = {'<->':0, ' ->':1, '<?>':2, '<- ':3, ' ?>':4, 'who':5}\n",
    "\n",
    "df['Dir'] = df['Dir'].map(dirmap)\n",
    "\n",
    "df['Proto'].value_counts()"
   ]
  },
  {
   "cell_type": "code",
   "execution_count": null,
   "id": "5756fcf7",
   "metadata": {},
   "outputs": [],
   "source": [
    "df['Dir'].value_counts()"
   ]
  },
  {
   "cell_type": "code",
   "execution_count": null,
   "id": "4e0837fd",
   "metadata": {},
   "outputs": [],
   "source": [
    "## DROP COLUMNS WITH NO CHANGING DATA OR NANs\n",
    "df = df.dropna('columns') ## ports are dropped due to a wrong register\n",
    "df = df[[col for col in df if df[col].nunique() > 1]]\n",
    "print(df.dtypes)"
   ]
  },
  {
   "cell_type": "code",
   "execution_count": null,
   "id": "db04f831",
   "metadata": {},
   "outputs": [],
   "source": [
    "corr = df.corr()\n",
    "plt.figure(figsize=(15,12))\n",
    "sns.heatmap(corr)\n",
    "plt.show()"
   ]
  },
  {
   "cell_type": "code",
   "execution_count": null,
   "id": "896f15ac",
   "metadata": {},
   "outputs": [],
   "source": [
    "cor_thr=0.98\n",
    "print('Shape before feature reduction: ', df.shape)\n",
    "corr_matrix = df.corr().abs()\n",
    "upper = corr_matrix.where(np.triu(np.ones(corr_matrix.shape), k=1).astype(np.bool_))\n",
    "to_drop = [column for column in upper.columns if any(upper[column] > cor_thr)]\n",
    "print('Features to drop')\n",
    "print(to_drop)\n",
    "for i in to_drop:\n",
    "    df.drop(i,axis = 1,inplace = True)\n",
    "print('Shape after feature reduction: ', df.shape)"
   ]
  },
  {
   "cell_type": "code",
   "execution_count": null,
   "id": "7bdc7beb",
   "metadata": {},
   "outputs": [],
   "source": [
    "#\n",
    "# Get data (from example code, not needed)\n",
    "#\n",
    "#print('Loading data...')\n",
    "#(x_train, y_train), (x_test, y_test) = imdb.load_data(num_words=10000)\n",
    "#test_data = x_test\n",
    "#print(len(x_train), 'train sequences')\n",
    "#print(len(x_test), 'test sequences')\n",
    "#print(x_train[450])\n",
    "\n",
    "#print('Pad sequences (samples x time)')\n",
    "#x_train = tf.keras.preprocessing.sequence.pad_sequences(sequences=x_train, maxlen=800)\n",
    "#x_test =  tf.keras.preprocessing.sequence.pad_sequences(sequences=x_test, maxlen=800)\n",
    "#print('x_train shape:', x_train.shape)\n",
    "#print('x_test shape:', x_test.shape)\n",
    "\n",
    "#\n",
    "# Data modification from Arnau N.\n",
    "#\n",
    "\n",
    "# Target variable and train set\n",
    "y = df[['Label']]\n",
    "x = df.drop(['Label',], axis=1)\n",
    "\n",
    "sc = MinMaxScaler()\n",
    "x= sc.fit_transform(X)\n",
    "\n",
    "# Split test and train data \n",
    "x_train, x_test, y_train, y_test = train_test_split(x, y, test_size=0.33, random_state=42)\n",
    "print(x_train.shape, x_test.shape)\n",
    "print(y_train.shape, y_test.shape)"
   ]
  },
  {
   "cell_type": "code",
   "execution_count": null,
   "id": "c46d5935",
   "metadata": {},
   "outputs": [],
   "source": [
    "#\n",
    "# prepeare model\n",
    "#\n",
    "\n",
    "print('Build model...')\n",
    "model = Sequential()\n",
    "\n",
    "model.add(Embedding(input_dim=71858, output_dim=100, input_length=5))\n",
    "model.add(Dropout(0.5))\n",
    "model.add(Conv1D(filters=250, kernel_size=3, padding='valid', activation='relu', strides=1))\n",
    "model.add(GlobalMaxPooling1D())\n",
    "model.add(Dense(250))\n",
    "model.add(Dropout(0.5))\n",
    "model.add(Activation('relu'))\n",
    "model.add(Dense(5, activation='sigmoid'))\n",
    "model.compile(loss='binary_crossentropy', optimizer='adam', metrics=['accuracy'])              "
   ]
  },
  {
   "cell_type": "code",
   "execution_count": null,
   "id": "64c82521",
   "metadata": {},
   "outputs": [],
   "source": [
    "model.summary()\n",
    "#SVG(model_to_dot(model,show_shapes = True).create(prog='dot', format='svg'))"
   ]
  },
  {
   "cell_type": "code",
   "execution_count": null,
   "id": "93eb426e",
   "metadata": {},
   "outputs": [],
   "source": [
    "#\n",
    "# Training\n",
    "#\n",
    "history = model.fit(x_train, x_train, batch_size=32, epochs=2, validation_data=(x_test, y_test))\n",
    "history_dict = history.history\n",
    "history_dict.keys()"
   ]
  },
  {
   "cell_type": "code",
   "execution_count": null,
   "id": "e4f88ebe",
   "metadata": {},
   "outputs": [],
   "source": [
    "#\n",
    "# evaluation\n",
    "#\n",
    "results = model.evaluate(x_test, y_test)\n",
    "print (\"Accuracy on test set:\" , results)\n",
    "print('Test loss:', results[0])\n",
    "print('Test accuracy:', results[1])"
   ]
  },
  {
   "cell_type": "code",
   "execution_count": null,
   "id": "7d2b685b",
   "metadata": {},
   "outputs": [],
   "source": [
    "#\n",
    "# Plot\n",
    "#\n",
    "val_loss = history.history['val_loss']\n",
    "loss = history.history['loss']\n",
    "accuracy = history.history['accuracy']\n",
    "val_accuracy = history.history['val_accuracy']\n",
    "\n",
    "epochs = range(1, len(accuracy) + 1)\n",
    "\n",
    "plt.rcParams['figure.figsize'] = [10, 5]\n",
    "plt.subplot(1, 2, 1)\n",
    "plt.plot(epochs, loss, 'bo', label='Training loss', color='red')\n",
    "plt.plot(epochs,val_loss , 'b', label='Validation loss', color='green')\n",
    "plt.title('Training and validation loss')\n",
    "plt.xlabel('Epochs')\n",
    "plt.ylabel('Loss')\n",
    "plt.legend()\n",
    "\n",
    "plt.subplot(1, 2, 2)\n",
    "plt.plot(epochs, accuracy, 'bo', label='Training acc', color='red')\n",
    "plt.plot(epochs, val_accuracy, 'b', label='Validation acc', color='green')\n",
    "plt.title('Training and validation accuracy')\n",
    "plt.xlabel('Epochs')\n",
    "plt.ylabel('Accuracy')\n",
    "plt.legend()\n",
    "plt.tight_layout()\n",
    "plt.show()"
   ]
  },
  {
   "cell_type": "code",
   "execution_count": null,
   "id": "59923ad7",
   "metadata": {},
   "outputs": [],
   "source": [
    "#\n",
    "# PREDICTION\n",
    "#\n",
    "model_prediction = Sequential()\n",
    "model_prediction.add(Embedding(10000, 50, input_length=800))\n",
    "model_prediction.add(Dropout(0.5))\n",
    "model_prediction.add(Conv1D(filters=250, kernel_size=3, padding='valid', activation='relu', strides=1))\n",
    "model_prediction.add(GlobalMaxPooling1D())\n",
    "model_prediction.add(Dense(250))\n",
    "model_prediction.add(Activation('relu'))\n",
    "model_prediction.add(Dense(1))\n",
    "model_prediction.add(Activation('sigmoid'))\n",
    "model_prediction.compile(loss='binary_crossentropy', optimizer='adam', metrics=['accuracy']) "
   ]
  },
  {
   "cell_type": "code",
   "execution_count": null,
   "id": "0e7f84d6",
   "metadata": {},
   "outputs": [],
   "source": [
    "#\n",
    "# training\n",
    "#\n",
    "history = model_prediction.fit(x_train, y_train, batch_size=32, epochs=3, validation_data=(x_test, y_test))"
   ]
  },
  {
   "cell_type": "code",
   "execution_count": null,
   "id": "24523398",
   "metadata": {},
   "outputs": [],
   "source": [
    "#\n",
    "# Evaluation\n",
    "#\n",
    "results = model.evaluate(x_test, y_test)\n",
    "print (\"Accuracy on test set:\" , results)\n",
    "print('Test loss:', results[0])\n",
    "print('Test accuracy:', results[1])"
   ]
  },
  {
   "cell_type": "code",
   "execution_count": null,
   "id": "9cba9bd2",
   "metadata": {},
   "outputs": [],
   "source": [
    "#\n",
    "# Plot\n",
    "#\n",
    "plt.hist(model_prediction.predict(x_test))"
   ]
  },
  {
   "cell_type": "code",
   "execution_count": null,
   "id": "86b1937b",
   "metadata": {},
   "outputs": [],
   "source": [
    "#\n",
    "# Prediction\n",
    "#\n",
    "y_pred = model_prediction.predict(x_test)\n",
    "prediction_is_positive = y_pred > 0.5\n",
    "label_is_negative = y_test.reshape((25000,1)) == 0\n",
    "\n",
    "incorrect_cases = np.where(np.logical_and( prediction_is_positive  , label_is_negative ))[0]\n",
    "#print (\"All incorrect cases: \",incorrect_cases[0:])\n",
    "print (\"Predicted score: \", len(incorrect_cases))"
   ]
  }
 ],
 "metadata": {
  "kernelspec": {
   "display_name": "Python 3 (ipykernel)",
   "language": "python",
   "name": "python3"
  },
  "language_info": {
   "codemirror_mode": {
    "name": "ipython",
    "version": 3
   },
   "file_extension": ".py",
   "mimetype": "text/x-python",
   "name": "python",
   "nbconvert_exporter": "python",
   "pygments_lexer": "ipython3",
   "version": "3.10.0"
  }
 },
 "nbformat": 4,
 "nbformat_minor": 5
}
