{
 "cells": [
  {
   "cell_type": "code",
   "execution_count": 2,
   "id": "41cdec25",
   "metadata": {},
   "outputs": [
    {
     "ename": "ModuleNotFoundError",
     "evalue": "No module named 'pandas'",
     "output_type": "error",
     "traceback": [
      "\u001b[1;31m---------------------------------------------------------------------------\u001b[0m",
      "\u001b[1;31mModuleNotFoundError\u001b[0m                       Traceback (most recent call last)",
      "Cell \u001b[1;32mIn [2], line 2\u001b[0m\n\u001b[0;32m      1\u001b[0m \u001b[38;5;28;01mimport\u001b[39;00m \u001b[38;5;21;01mos\u001b[39;00m\u001b[38;5;241m,\u001b[39m \u001b[38;5;21;01mtime\u001b[39;00m\n\u001b[1;32m----> 2\u001b[0m \u001b[38;5;28;01mimport\u001b[39;00m \u001b[38;5;21;01mpandas\u001b[39;00m \u001b[38;5;28;01mas\u001b[39;00m \u001b[38;5;21;01mpd\u001b[39;00m\n\u001b[0;32m      3\u001b[0m \u001b[38;5;28;01mimport\u001b[39;00m \u001b[38;5;21;01mnumpy\u001b[39;00m \u001b[38;5;28;01mas\u001b[39;00m \u001b[38;5;21;01mnp\u001b[39;00m\n\u001b[0;32m      4\u001b[0m \u001b[38;5;28;01mimport\u001b[39;00m \u001b[38;5;21;01mmatplotlib\u001b[39;00m\u001b[38;5;21;01m.\u001b[39;00m\u001b[38;5;21;01mpyplot\u001b[39;00m \u001b[38;5;28;01mas\u001b[39;00m \u001b[38;5;21;01mplt\u001b[39;00m\n",
      "\u001b[1;31mModuleNotFoundError\u001b[0m: No module named 'pandas'"
     ]
    }
   ],
   "source": [
    "import os, time\n",
    "import pandas as pd\n",
    "import numpy as np\n",
    "import matplotlib.pyplot as plt\n",
    "import seaborn as sns\n",
    "from sklearn.model_selection import train_test_split\n",
    "from sklearn.preprocessing import MinMaxScaler\n",
    "data_path=os.getcwd()+'/data'\n",
    "df=pd.read_csv(data_path+'/dataset.csv', sep=';')\n",
    "print(df.shape)"
   ]
  },
  {
   "cell_type": "code",
   "execution_count": 2,
   "id": "942d5b72",
   "metadata": {},
   "outputs": [
    {
     "name": "stdout",
     "output_type": "stream",
     "text": [
      "                      StartTime           Dur Proto        SrcAddr  Sport  \\\n",
      "0  jueves, 18 de agosto de 2011  8.306214e+14   tcp  147.32.84.202   1078   \n",
      "1  jueves, 18 de agosto de 2011  4.977205e+15   tcp    88100184137  13121   \n",
      "2  jueves, 18 de agosto de 2011  9.712881e+15   tcp    147.32.84.2     80   \n",
      "3  jueves, 18 de agosto de 2011  8.999964e+15   tcp   90.181.84.58  54518   \n",
      "4  jueves, 18 de agosto de 2011  3.875344e+14   tcp  147.32.86.116  19083   \n",
      "\n",
      "   Dir        DstAddr  Dport    State  sTos  dTos  TotPkts   TotBytes  \\\n",
      "0  <?>   65.54.89.106     80  RPA_FPA   0.0   0.0    43065   40974671   \n",
      "1  <?>   147.32.85.26  62860   RPA_PA   0.0   0.0   326962  132430976   \n",
      "2  <?>  218.75.208.58   3088     PA_A   0.0   0.0     7912    7356876   \n",
      "3  <?>   147.32.84.19    993    PA_PA   0.0   0.0       48       5728   \n",
      "4   ?>   151.82.9.107   2185     RPA_   0.0   NaN        7        456   \n",
      "\n",
      "   SrcBytes            Label  \n",
      "0   1033777  flow=Background  \n",
      "1   7076046  flow=Background  \n",
      "2   7153650  flow=Background  \n",
      "3      3008  flow=Background  \n",
      "4       456  flow=Background  \n"
     ]
    }
   ],
   "source": [
    "print(df.head())"
   ]
  },
  {
   "cell_type": "code",
   "execution_count": 3,
   "id": "b5489a23",
   "metadata": {},
   "outputs": [
    {
     "data": {
      "text/plain": [
       "0.0      106184\n",
       "3.0          38\n",
       "2.0          24\n",
       "192.0        20\n",
       "1.0           5\n",
       "Name: sTos, dtype: int64"
      ]
     },
     "execution_count": 3,
     "metadata": {},
     "output_type": "execute_result"
    }
   ],
   "source": [
    "df['sTos'].value_counts()"
   ]
  },
  {
   "cell_type": "code",
   "execution_count": 4,
   "id": "e59691dc",
   "metadata": {},
   "outputs": [
    {
     "data": {
      "text/plain": [
       "0.0    90268\n",
       "2.0       12\n",
       "3.0       11\n",
       "1.0        1\n",
       "Name: dTos, dtype: int64"
      ]
     },
     "execution_count": 4,
     "metadata": {},
     "output_type": "execute_result"
    }
   ],
   "source": [
    "df['dTos'].value_counts()"
   ]
  },
  {
   "cell_type": "code",
   "execution_count": 5,
   "id": "41342957",
   "metadata": {},
   "outputs": [
    {
     "data": {
      "text/plain": [
       "udp          74884\n",
       "tcp          19307\n",
       "icmp         12805\n",
       "igmp            82\n",
       "rtcp            76\n",
       "arp             54\n",
       "rtp             21\n",
       "ipv6-icmp       12\n",
       "udt              5\n",
       "rarp             2\n",
       "ipx/spx          1\n",
       "ipv6             1\n",
       "pim              1\n",
       "Name: Proto, dtype: int64"
      ]
     },
     "execution_count": 5,
     "metadata": {},
     "output_type": "execute_result"
    }
   ],
   "source": [
    "df['Proto'].value_counts()"
   ]
  },
  {
   "cell_type": "code",
   "execution_count": 6,
   "id": "f286106e",
   "metadata": {},
   "outputs": [
    {
     "data": {
      "text/plain": [
       "<->    71234\n",
       " ->    32855\n",
       "<?>     2030\n",
       "<-       806\n",
       " ?>      270\n",
       "who       56\n",
       "Name: Dir, dtype: int64"
      ]
     },
     "execution_count": 6,
     "metadata": {},
     "output_type": "execute_result"
    }
   ],
   "source": [
    "df['Dir'].value_counts()"
   ]
  },
  {
   "cell_type": "code",
   "execution_count": 7,
   "id": "adac0645",
   "metadata": {},
   "outputs": [
    {
     "data": {
      "text/plain": [
       "flow=Background-UDP-Established                             37342\n",
       "flow=To-Background-UDP-CVUT-DNS-Server                      30568\n",
       "flow=Background-TCP-Established                              9363\n",
       "flow=Background-Established-cmpgw-CVUT                       6981\n",
       "flow=From-Botnet-V52-1-ICMP                                  4144\n",
       "flow=From-Botnet-V52-2-ICMP                                  3999\n",
       "flow=Background-Attempt-cmpgw-CVUT                           3378\n",
       "flow=Background                                              3230\n",
       "flow=From-Normal-V52-Grill                                   2113\n",
       "flow=Background-UDP-Attempt                                  1951\n",
       "flow=Background-TCP-Attempt                                  1244\n",
       "flow=To-Background-CVUT-Proxy                                 661\n",
       "flow=From-Normal-V52-Stribrek                                 581\n",
       "flow=Background-UDP-NTP-Established-1                         287\n",
       "flow=To-Background-CVUT-WebServer                             162\n",
       "flow=Background-google-analytics13                            134\n",
       "flow=Background-google-analytics10                            103\n",
       "flow=Background-google-analytics8                              95\n",
       "flow=Background-google-analytics3                              76\n",
       "flow=Background-google-analytics7                              74\n",
       "flow=Background-google-analytics12                             70\n",
       "flow=Background-google-analytics15                             69\n",
       "flow=Background-google-analytics6                              54\n",
       "flow=Background-google-analytics2                              54\n",
       "flow=Background-google-analytics16                             53\n",
       "flow=From-Background-CVUT-Proxy                                48\n",
       "flow=Background-google-analytics14                             48\n",
       "flow=Background-google-analytics5                              47\n",
       "flow=Background-google-analytics9                              43\n",
       "flow=Background-google-analytics4                              41\n",
       "flow=To-Background-MatLab-Server                               41\n",
       "flow=Background-google-analytics1                              40\n",
       "flow=Background-google-analytics11                             38\n",
       "flow=Background-google-webmail                                 26\n",
       "flow=Background-ajax.google                                    14\n",
       "flow=Background-google-pop                                     13\n",
       "flow=From-Normal-V52-Jist                                      11\n",
       "flow=To-Background-Grill                                        9\n",
       "flow=To-Normal-V52-UDP-NTP-server                               8\n",
       "flow=To-Background-Stribrek                                     6\n",
       "flow=From-Botnet-V52-1-UDP-DNS                                  4\n",
       "flow=To-Background-Jist                                         4\n",
       "flow=From-Botnet-V52-2-UDP-DNS                                  4\n",
       "flow=From-Botnet-V52-3-UDP-DNS                                  4\n",
       "flow=From-Normal-V52-MatLab-Server                              2\n",
       "flow=Background-www.fel.cvut.cz                                 2\n",
       "flow=Normal-V52-HTTP-windowsupdate                              1\n",
       "flow=From-Botnet-V52-3-TCP-CC106-IRC-Not-Encrypted              1\n",
       "flow=From-Normal-V52-UDP-CVUT-DNS-Server                        1\n",
       "flow=From-Botnet-V52-2-TCP-CC106-IRC-Not-Encrypted              1\n",
       "flow=From-Botnet-V52-1-TCP-Established                          1\n",
       "flow=From-Botnet-V52-2-UDP-Attempt                              1\n",
       "flow=From-Botnet-V52-3-UDP-Attempt                              1\n",
       "flow=From-Botnet-V52-3-TCP-HTTP-Google-Net-Established-6        1\n",
       "flow=From-Normal-V52-CVUT-WebServer                             1\n",
       "flow=From-Botnet-V52-2-TCP-HTTP-Google-Net-Established-6        1\n",
       "flow=From-Botnet-V52-1-UDP-Attempt                              1\n",
       "flow=From-Botnet-V52-1-TCP-HTTP-Google-Net-Established-6        1\n",
       "Name: Label, dtype: int64"
      ]
     },
     "execution_count": 7,
     "metadata": {},
     "output_type": "execute_result"
    }
   ],
   "source": [
    "df['Label'].value_counts()"
   ]
  },
  {
   "cell_type": "code",
   "execution_count": 8,
   "id": "506a71b5",
   "metadata": {},
   "outputs": [
    {
     "name": "stdout",
     "output_type": "stream",
     "text": [
      "StartTime     object\n",
      "Dur          float64\n",
      "Proto         object\n",
      "SrcAddr       object\n",
      "Sport         object\n",
      "Dir           object\n",
      "DstAddr       object\n",
      "Dport         object\n",
      "State         object\n",
      "sTos         float64\n",
      "dTos         float64\n",
      "TotPkts        int64\n",
      "TotBytes       int64\n",
      "SrcBytes       int64\n",
      "Label         object\n",
      "dtype: object\n"
     ]
    }
   ],
   "source": [
    "print(df.dtypes)"
   ]
  },
  {
   "cell_type": "code",
   "execution_count": 9,
   "id": "f9baf296",
   "metadata": {},
   "outputs": [
    {
     "name": "stdout",
     "output_type": "stream",
     "text": [
      "Dur         float64\n",
      "Proto        object\n",
      "Sport        object\n",
      "Dir          object\n",
      "Dport        object\n",
      "sTos        float64\n",
      "dTos        float64\n",
      "TotPkts       int64\n",
      "TotBytes      int64\n",
      "SrcBytes      int64\n",
      "Label        object\n",
      "dtype: object\n"
     ]
    }
   ],
   "source": [
    "## DROP COLUMNS NOT NECESSARI\n",
    "df.drop('StartTime',axis = 1,inplace= True)\n",
    "df.drop('DstAddr',axis = 1,inplace= True)\n",
    "df.drop('State',axis = 1,inplace= True)\n",
    "df.drop('SrcAddr',axis = 1,inplace= True)\n",
    "print(df.dtypes)"
   ]
  },
  {
   "cell_type": "code",
   "execution_count": 10,
   "id": "c250895a",
   "metadata": {},
   "outputs": [],
   "source": [
    "## MAP STRINGS TO INT\n",
    "pmap = {'udp':0, 'tcp':1, 'icmp':2, 'igmp':3, 'rtcp':4, 'arp':5, 'rtp':6, 'ipv6-icmp':7, 'udt':8, 'rarp':9, 'ipx/spx':10, 'ipv6':11, 'pim':12}\n",
    "df['Proto'] = df['Proto'].map(pmap)\n",
    "\n",
    "dirmap = {'<->':0, ' ->':1, '<?>':2, '<- ':3, ' ?>':4, 'who':5}\n",
    "df['Dir'] = df['Dir'].map(dirmap)"
   ]
  },
  {
   "cell_type": "code",
   "execution_count": 11,
   "id": "44b10875",
   "metadata": {},
   "outputs": [
    {
     "data": {
      "text/plain": [
       "0     74884\n",
       "1     19307\n",
       "2     12805\n",
       "3        82\n",
       "4        76\n",
       "5        54\n",
       "6        21\n",
       "7        12\n",
       "8         5\n",
       "9         2\n",
       "10        1\n",
       "11        1\n",
       "12        1\n",
       "Name: Proto, dtype: int64"
      ]
     },
     "execution_count": 11,
     "metadata": {},
     "output_type": "execute_result"
    }
   ],
   "source": [
    "df['Proto'].value_counts()"
   ]
  },
  {
   "cell_type": "code",
   "execution_count": 12,
   "id": "d874c0cb",
   "metadata": {},
   "outputs": [
    {
     "data": {
      "text/plain": [
       "0.0    71234\n",
       "1.0    32855\n",
       "2.0     2030\n",
       "4.0      270\n",
       "5.0       56\n",
       "Name: Dir, dtype: int64"
      ]
     },
     "execution_count": 12,
     "metadata": {},
     "output_type": "execute_result"
    }
   ],
   "source": [
    "df['Dir'].value_counts()"
   ]
  },
  {
   "cell_type": "code",
   "execution_count": 13,
   "id": "c7618890",
   "metadata": {},
   "outputs": [
    {
     "name": "stdout",
     "output_type": "stream",
     "text": [
      "Dur         float64\n",
      "Proto         int64\n",
      "TotPkts       int64\n",
      "TotBytes      int64\n",
      "SrcBytes      int64\n",
      "Label        object\n",
      "dtype: object\n"
     ]
    },
    {
     "name": "stderr",
     "output_type": "stream",
     "text": [
      "/tmp/ipykernel_63389/601863964.py:2: FutureWarning: In a future version of pandas all arguments of DataFrame.dropna will be keyword-only\n",
      "  df = df.dropna('columns') ## ports are dropped due to a wrong register\n"
     ]
    }
   ],
   "source": [
    "## DROP COLUMNS WITH NO CHANGING DATA OR NANs\n",
    "df = df.dropna('columns') ## ports are dropped due to a wrong register\n",
    "df = df[[col for col in df if df[col].nunique() > 1]]\n",
    "print(df.dtypes)"
   ]
  },
  {
   "cell_type": "code",
   "execution_count": 14,
   "id": "14786f66",
   "metadata": {
    "scrolled": false
   },
   "outputs": [
    {
     "data": {
      "image/png": "[encoded data removed]",
      "text/plain": [
       "<Figure size 1500x1200 with 2 Axes>"
      ]
     },
     "metadata": {},
     "output_type": "display_data"
    }
   ],
   "source": [
    "corr = df.corr()\n",
    "plt.figure(figsize=(15,12))\n",
    "sns.heatmap(corr)\n",
    "plt.show()"
   ]
  },
  {
   "cell_type": "code",
   "execution_count": 15,
   "id": "3ec6f5b1",
   "metadata": {},
   "outputs": [
    {
     "name": "stdout",
     "output_type": "stream",
     "text": [
      "Shape before feature reduction:  (107251, 6)\n",
      "Features to drop\n",
      "[]\n",
      "Shape after feature reduction:  (107251, 6)\n"
     ]
    }
   ],
   "source": [
    "cor_thr=0.98\n",
    "print('Shape before feature reduction: ', df.shape)\n",
    "corr_matrix = df.corr().abs()\n",
    "upper = corr_matrix.where(np.triu(np.ones(corr_matrix.shape), k=1).astype(np.bool_))\n",
    "to_drop = [column for column in upper.columns if any(upper[column] > cor_thr)]\n",
    "print('Features to drop')\n",
    "print(to_drop)\n",
    "for i in to_drop:\n",
    "    df.drop(i,axis = 1,inplace = True)\n",
    "print('Shape after feature reduction: ', df.shape)"
   ]
  },
  {
   "cell_type": "code",
   "execution_count": 1,
   "id": "993e0153",
   "metadata": {},
   "outputs": [
    {
     "ename": "ModuleNotFoundError",
     "evalue": "No module named 'sklearn'",
     "output_type": "error",
     "traceback": [
      "\u001b[1;31m---------------------------------------------------------------------------\u001b[0m",
      "\u001b[1;31mModuleNotFoundError\u001b[0m                       Traceback (most recent call last)",
      "Cell \u001b[1;32mIn [1], line 1\u001b[0m\n\u001b[1;32m----> 1\u001b[0m \u001b[38;5;28;01mfrom\u001b[39;00m \u001b[38;5;21;01msklearn\u001b[39;00m\u001b[38;5;21;01m.\u001b[39;00m\u001b[38;5;21;01mmodel_selection\u001b[39;00m \u001b[38;5;28;01mimport\u001b[39;00m train_test_split\n\u001b[0;32m      2\u001b[0m \u001b[38;5;28;01mfrom\u001b[39;00m \u001b[38;5;21;01msklearn\u001b[39;00m\u001b[38;5;21;01m.\u001b[39;00m\u001b[38;5;21;01mpreprocessing\u001b[39;00m \u001b[38;5;28;01mimport\u001b[39;00m MinMaxScaler\n\u001b[0;32m      4\u001b[0m \u001b[38;5;66;03m# Target variable and train set\u001b[39;00m\n",
      "\u001b[1;31mModuleNotFoundError\u001b[0m: No module named 'sklearn'"
     ]
    }
   ],
   "source": [
    "from sklearn.model_selection import train_test_split\n",
    "from sklearn.preprocessing import MinMaxScaler\n",
    "\n",
    "# Target variable and train set\n",
    "Y = df[['Label']]\n",
    "X = df.drop(['Label',], axis=1)\n",
    "\n",
    "sc = MinMaxScaler()\n",
    "X = sc.fit_transform(X)\n",
    "\n",
    "# Split test and train data \n",
    "X_train, X_test, Y_train, Y_test = train_test_split(X, Y, test_size=0.33, random_state=42)\n",
    "print(X_train.shape, X_test.shape)\n",
    "print(Y_train.shape, Y_test.shape)\n",
    "\n",
    "print(X)\n",
    "print(Y)"
   ]
  },
  {
   "cell_type": "code",
   "execution_count": null,
   "id": "231a0d44",
   "metadata": {},
   "outputs": [],
   "source": [
    "from keras.models import Sequential\n",
    "from keras.layers import Dense\n",
    "from keras.wrappers.scikit_learn import KerasClassifier\n",
    "from keras.callbacks import EarlyStopping\n",
    "\n",
    "def ann():\n",
    "    model = Sequential()\n",
    "    model.add(Dense(30,input_dim =32,activation = 'relu',kernel_initializer='random_uniform'))\n",
    "    model.add(Dense(5,activation='sigmoid',kernel_initializer='random_uniform'))\n",
    "    model.add(Dense(5,activation='softmax'))\n",
    "    model.compile(loss ='categorical_crossentropy',optimizer = 'adam',metrics = ['accuracy'])\n",
    "    return model\n",
    "\n",
    "model_ann = KerasClassifier(build_fn=ann,epochs=50,batch_size=64)\n",
    "start_time = time.time()\n",
    "callback = EarlyStopping(monitor='loss', patience=5)\n",
    "model_ann.fit(X_train, Y_train.values.ravel(), callbacks=[callback])\n",
    "time_train_ann = time.time() - start_time"
   ]
  }
 ],
 "metadata": {
  "kernelspec": {
   "display_name": "Python 3 (ipykernel)",
   "language": "python",
   "name": "python3"
  },
  "language_info": {
   "codemirror_mode": {
    "name": "ipython",
    "version": 3
   },
   "file_extension": ".py",
   "mimetype": "text/x-python",
   "name": "python",
   "nbconvert_exporter": "python",
   "pygments_lexer": "ipython3",
   "version": "3.10.0"
  }
 },
 "nbformat": 4,
 "nbformat_minor": 5
}
