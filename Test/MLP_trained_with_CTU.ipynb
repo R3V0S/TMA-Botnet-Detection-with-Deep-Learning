{
 "cells": [
  {
   "cell_type": "code",
   "execution_count": null,
   "id": "41cdec25",
   "metadata": {},
   "outputs": [],
   "source": [
    "import os, time\n",
    "import pandas as pd\n",
    "import numpy as np\n",
    "import matplotlib.pyplot as plt\n",
    "import seaborn as sns\n",
    "from sklearn.model_selection import train_test_split\n",
    "from sklearn.preprocessing import MinMaxScaler\n",
    "data_path=os.getcwd()+'//data'\n",
    "df=pd.read_csv(data_path+'/ctu.csv', sep=';')\n",
    "print(df.shape)"
   ]
  },
  {
   "cell_type": "code",
   "execution_count": null,
   "id": "dc7b17d3",
   "metadata": {},
   "outputs": [],
   "source": [
    "print(df.head())"
   ]
  },
  {
   "cell_type": "code",
   "execution_count": null,
   "id": "db082244",
   "metadata": {},
   "outputs": [],
   "source": [
    "df['sTos'].value_counts()"
   ]
  },
  {
   "cell_type": "code",
   "execution_count": null,
   "id": "482878f0",
   "metadata": {},
   "outputs": [],
   "source": [
    "df['dTos'].value_counts()"
   ]
  },
  {
   "cell_type": "code",
   "execution_count": null,
   "id": "28eee046",
   "metadata": {},
   "outputs": [],
   "source": [
    "df['Proto'].value_counts()"
   ]
  },
  {
   "cell_type": "code",
   "execution_count": null,
   "id": "4efe7d39",
   "metadata": {},
   "outputs": [],
   "source": [
    "df['Dir'].value_counts()"
   ]
  },
  {
   "cell_type": "code",
   "execution_count": null,
   "id": "f55c611a",
   "metadata": {},
   "outputs": [],
   "source": [
    "df['Label'].value_counts()"
   ]
  },
  {
   "cell_type": "code",
   "execution_count": null,
   "id": "4ae39361",
   "metadata": {},
   "outputs": [],
   "source": [
    "#Removing the Labels where only 1 index is available in order to do a validation phase\n",
    "for i, j in zip(df['Label'].value_counts().index, df['Label'].value_counts()):\n",
    "    if j < 10:\n",
    "        df = df.drop(df[df[\"Label\"] == i].index, axis=0)\n",
    "# Choose the labels (...): for example 3 background labels, Attack type A, Other attacks..."
   ]
  },
  {
   "cell_type": "code",
   "execution_count": null,
   "id": "39d9d24f",
   "metadata": {},
   "outputs": [],
   "source": [
    "print(df.dtypes)"
   ]
  },
  {
   "cell_type": "code",
   "execution_count": null,
   "id": "634c1655",
   "metadata": {},
   "outputs": [],
   "source": [
    "## DROP COLUMNS NOT NEEDED\n",
    "df.drop('StartTime',axis = 1,inplace= True)\n",
    "df.drop('DstAddr',axis = 1,inplace= True)\n",
    "df.drop('State',axis = 1,inplace= True)\n",
    "df.drop('SrcAddr',axis = 1,inplace= True)\n",
    "print(df.dtypes)"
   ]
  },
  {
   "cell_type": "code",
   "execution_count": null,
   "id": "f9baf296",
   "metadata": {},
   "outputs": [],
   "source": [
    "## MAP STRINGS TO INT\n",
    "pmap = {'udp':0, 'tcp':1, 'icmp':2, 'igmp':3, 'rtcp':4, 'arp':5, 'rtp':6, 'ipv6-icmp':7, 'udt':8, 'rarp':9, 'ipx/spx':10, 'ipv6':11, 'pim':12}\n",
    "df['Proto'] = df['Proto'].map(pmap)\n",
    "\n",
    "dirmap = {'<->':0, ' ->':1, '<?>':2, '<- ':3, ' ?>':4, 'who':5}\n",
    "df['Dir'] = df['Dir'].map(dirmap)"
   ]
  },
  {
   "cell_type": "code",
   "execution_count": null,
   "id": "b2a30daa",
   "metadata": {},
   "outputs": [],
   "source": [
    "df['Proto'].value_counts()"
   ]
  },
  {
   "cell_type": "code",
   "execution_count": null,
   "id": "65c3e389",
   "metadata": {},
   "outputs": [],
   "source": [
    "df['Dir'].value_counts()"
   ]
  },
  {
   "cell_type": "code",
   "execution_count": null,
   "id": "c250895a",
   "metadata": {},
   "outputs": [],
   "source": [
    "## DROP COLUMNS WITH NO CHANGING DATA OR NANs\n",
    "df = df.dropna('columns') ## ports are dropped due to a wrong register\n",
    "df = df[[col for col in df if df[col].nunique() > 1]]\n",
    "print(df.dtypes)"
   ]
  },
  {
   "cell_type": "code",
   "execution_count": null,
   "id": "497cac21",
   "metadata": {},
   "outputs": [],
   "source": [
    "df2 = df.drop(\"Label\", axis=1)\n",
    "df2.head()"
   ]
  },
  {
   "cell_type": "code",
   "execution_count": null,
   "id": "44b10875",
   "metadata": {},
   "outputs": [],
   "source": [
    "corr = df2.corr()\n",
    "plt.figure(figsize=(15,12))\n",
    "sns.heatmap(corr)\n",
    "plt.show()"
   ]
  },
  {
   "cell_type": "code",
   "execution_count": null,
   "id": "d874c0cb",
   "metadata": {},
   "outputs": [],
   "source": [
    "cor_thr=0.95\n",
    "print('Shape before feature reduction: ', df.shape)\n",
    "corr_matrix = df.corr().abs()\n",
    "upper = corr_matrix.where(np.triu(np.ones(corr_matrix.shape), k=1).astype(np.bool_))\n",
    "to_drop = [column for column in upper.columns if any(upper[column] > cor_thr)]\n",
    "print('Features to drop')\n",
    "print(to_drop)\n",
    "for i in to_drop:\n",
    "    df.drop(i,axis = 1,inplace = True)\n",
    "print('Shape after feature reduction: ', df.shape)"
   ]
  },
  {
   "cell_type": "code",
   "execution_count": null,
   "id": "c7618890",
   "metadata": {},
   "outputs": [],
   "source": [
    "from sklearn.model_selection import train_test_split\n",
    "from sklearn.preprocessing import StandardScaler\n",
    "\n",
    "# Target variable and train set\n",
    "Y = df[['Label']]\n",
    "X = df.drop(['Label',], axis=1)\n",
    "\n",
    "sc = StandardScaler()\n",
    "X = sc.fit_transform(X)\n",
    "\n",
    "# Split test and train data \n",
    "X_train, X_test, Y_train, Y_test = train_test_split(X, Y, test_size=0.2, random_state=42)\n",
    "\n",
    "print(X_train.shape, X_test.shape)\n",
    "print(Y_train.shape, Y_test.shape)\n",
    "\n",
    "print(X)\n",
    "print(Y)"
   ]
  },
  {
   "cell_type": "code",
   "execution_count": null,
   "id": "aa450662",
   "metadata": {
    "scrolled": true
   },
   "outputs": [],
   "source": [
    "from keras.models import Sequential\n",
    "from keras.layers import Dense\n",
    "from keras.wrappers.scikit_learn import KerasClassifier\n",
    "from keras.callbacks import EarlyStopping\n",
    "\n",
    "def ann():\n",
    "    model = Sequential()\n",
    "    model.add(Dense(30,input_dim =4,activation = 'relu',kernel_initializer='random_uniform'))\n",
    "    model.add(Dense(5,activation='sigmoid',kernel_initializer='random_uniform'))\n",
    "    model.add(Dense(37,activation='softmax'))\n",
    "    model.compile(loss ='categorical_crossentropy',optimizer = 'adam',metrics = ['accuracy'])\n",
    "    return model\n",
    "\n",
    "model_ann = KerasClassifier(build_fn=ann,epochs=10,batch_size=64)\n",
    "start_time = time.time()\n",
    "callback = EarlyStopping(monitor='loss', patience=5)\n",
    "history = model_ann.fit(X_train, Y_train.values.ravel(), validation_split=0.1, callbacks=[callback])\n",
    "time_train_ann = time.time() - start_time"
   ]
  },
  {
   "cell_type": "code",
   "execution_count": null,
   "id": "05681753",
   "metadata": {
    "scrolled": false
   },
   "outputs": [],
   "source": [
    "loss = history.history['val_loss']\n",
    "accuracy = history.history['val_accuracy']\n",
    "\n",
    "print(loss)\n",
    "print(accuracy)\n",
    "    \n",
    "plt.rcParams['figure.figsize'] = [10, 5]\n",
    "plt.subplot(1, 2, 1)\n",
    "plt.plot(range(1, 11), loss, 'bo', label='Training loss', color='red')\n",
    "plt.title('Training loss')\n",
    "plt.xlabel('Epochs')\n",
    "plt.ylabel('Loss')\n",
    "plt.legend()\n",
    "\n",
    "plt.subplot(1, 2, 2)\n",
    "plt.plot(range(1, 11), accuracy, 'bo', label='Training acc', color='red')\n",
    "plt.title('Training accuracy')\n",
    "plt.xlabel('Epochs')\n",
    "plt.ylabel('Accuracy')\n",
    "plt.legend()\n",
    "plt.tight_layout()\n",
    "plt.show()"
   ]
  },
  {
   "cell_type": "code",
   "execution_count": null,
   "id": "2abc5cd1",
   "metadata": {},
   "outputs": [],
   "source": [
    "from sklearn.metrics import accuracy_score\n",
    "from sklearn.metrics import balanced_accuracy_score\n",
    "\n",
    "def plot_confusion_matrix(Y_real, Y_pred, title=None):\n",
    "    labels=np.unique(Y_real)\n",
    "    nc=len(labels)\n",
    "    data=np.zeros((nc,nc))\n",
    "    pairs=zip(Y_real,Y_pred)\n",
    "    pairs=list(pairs)\n",
    "    for p in pairs: data[np.where(labels==p[0]),np.where(labels==p[1])]+=1\n",
    "    row_total=np.sum(data,axis=1)\n",
    "    data=data/row_total.reshape((nc,1))\n",
    "    sns.set(color_codes=True)\n",
    "    plt.figure(1, figsize=(9, 6))\n",
    "    plt.title('Confusion Matrix') if title is None else plt.title(title)\n",
    "    sns.set(font_scale=1.4)\n",
    "    ax = sns.heatmap(data, annot=True, cmap='Blues', cbar_kws={'label': 'Scale'})\n",
    "    ax.set_xticklabels(labels)\n",
    "    ax.set_yticklabels(labels)\n",
    "    ax.set(ylabel='True Label', xlabel='Predicted Label')\n",
    "    plt.show()\n",
    "    \n",
    "  \n",
    "print('ANN evaluation')\n",
    "start_time = time.time()\n",
    "Y_train_pred=model_ann.predict(X_train)\n",
    "Y_test_pred=model_ann.predict(X_test)\n",
    "time_eval_ann=time.time()-start_time\n",
    "\n",
    "print('Overall accuracy training: ', balanced_accuracy_score(Y_train,Y_train_pred))\n",
    "print('Overall accuracy test: ', balanced_accuracy_score(Y_test,Y_test_pred))\n",
    "\n",
    "#Balanced_accuracy_score es una accuracy balanceada\n",
    "#Accuracy_score es la accuracy general obtenida durante el entrenamiento\n",
    "\n",
    "print('Training time (seconds per sample): ', time_train_ann/float(Y_train.shape[0]))\n",
    "print('Evaluation time (seconds per sample): ', \n",
    "time_eval_ann/(float(Y_train.shape[0])+float(Y_test.shape[0])))\n",
    "\n",
    "#plot_confusion_matrix(Y_train.values.ravel(),Y_train_pred, title='ANN - Training')\n",
    "#plot_confusion_matrix(Y_test.values.ravel(),Y_test_pred, title='ANN - Testing')"
   ]
  }
 ],
 "metadata": {
  "kernelspec": {
   "display_name": "Python 3 (ipykernel)",
   "language": "python",
   "name": "python3"
  },
  "language_info": {
   "codemirror_mode": {
    "name": "ipython",
    "version": 3
   },
   "file_extension": ".py",
   "mimetype": "text/x-python",
   "name": "python",
   "nbconvert_exporter": "python",
   "pygments_lexer": "ipython3",
   "version": "3.10.0"
  }
 },
 "nbformat": 4,
 "nbformat_minor": 5
}
