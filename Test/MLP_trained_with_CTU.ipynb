{
 "cells": [
  {
   "cell_type": "code",
   "execution_count": 18,
   "id": "41cdec25",
   "metadata": {},
   "outputs": [
    {
     "name": "stdout",
     "output_type": "stream",
     "text": [
      "(107251, 15)\n"
     ]
    }
   ],
   "source": [
    "import os, time\n",
    "import pandas as pd\n",
    "import numpy as np\n",
    "import matplotlib.pyplot as plt\n",
    "import seaborn as sns\n",
    "from sklearn.model_selection import train_test_split\n",
    "from sklearn.preprocessing import MinMaxScaler\n",
    "data_path=os.getcwd()+'//data'\n",
    "df=pd.read_csv(data_path+'/ctu.csv', sep=';')\n",
    "print(df.shape)"
   ]
  },
  {
   "cell_type": "code",
   "execution_count": 19,
   "id": "dc7b17d3",
   "metadata": {},
   "outputs": [
    {
     "name": "stdout",
     "output_type": "stream",
     "text": [
      "                      StartTime           Dur Proto        SrcAddr  Sport  \\\n",
      "0  jueves, 18 de agosto de 2011  8.306214e+14   tcp  147.32.84.202   1078   \n",
      "1  jueves, 18 de agosto de 2011  4.977205e+15   tcp    88100184137  13121   \n",
      "2  jueves, 18 de agosto de 2011  9.712881e+15   tcp    147.32.84.2     80   \n",
      "3  jueves, 18 de agosto de 2011  8.999964e+15   tcp   90.181.84.58  54518   \n",
      "4  jueves, 18 de agosto de 2011  3.875344e+14   tcp  147.32.86.116  19083   \n",
      "\n",
      "   Dir        DstAddr  Dport    State  sTos  dTos  TotPkts   TotBytes  \\\n",
      "0  <?>   65.54.89.106     80  RPA_FPA   0.0   0.0    43065   40974671   \n",
      "1  <?>   147.32.85.26  62860   RPA_PA   0.0   0.0   326962  132430976   \n",
      "2  <?>  218.75.208.58   3088     PA_A   0.0   0.0     7912    7356876   \n",
      "3  <?>   147.32.84.19    993    PA_PA   0.0   0.0       48       5728   \n",
      "4   ?>   151.82.9.107   2185     RPA_   0.0   NaN        7        456   \n",
      "\n",
      "   SrcBytes            Label  \n",
      "0   1033777  flow=Background  \n",
      "1   7076046  flow=Background  \n",
      "2   7153650  flow=Background  \n",
      "3      3008  flow=Background  \n",
      "4       456  flow=Background  \n"
     ]
    }
   ],
   "source": [
    "print(df.head())"
   ]
  },
  {
   "cell_type": "code",
   "execution_count": 20,
   "id": "db082244",
   "metadata": {},
   "outputs": [
    {
     "data": {
      "text/plain": [
       "0.0      106184\n",
       "3.0          38\n",
       "2.0          24\n",
       "192.0        20\n",
       "1.0           5\n",
       "Name: sTos, dtype: int64"
      ]
     },
     "execution_count": 20,
     "metadata": {},
     "output_type": "execute_result"
    }
   ],
   "source": [
    "df['sTos'].value_counts()"
   ]
  },
  {
   "cell_type": "code",
   "execution_count": 21,
   "id": "482878f0",
   "metadata": {},
   "outputs": [
    {
     "data": {
      "text/plain": [
       "0.0    90268\n",
       "2.0       12\n",
       "3.0       11\n",
       "1.0        1\n",
       "Name: dTos, dtype: int64"
      ]
     },
     "execution_count": 21,
     "metadata": {},
     "output_type": "execute_result"
    }
   ],
   "source": [
    "df['dTos'].value_counts()"
   ]
  },
  {
   "cell_type": "code",
   "execution_count": 22,
   "id": "28eee046",
   "metadata": {},
   "outputs": [
    {
     "data": {
      "text/plain": [
       "udp          74884\n",
       "tcp          19307\n",
       "icmp         12805\n",
       "igmp            82\n",
       "rtcp            76\n",
       "arp             54\n",
       "rtp             21\n",
       "ipv6-icmp       12\n",
       "udt              5\n",
       "rarp             2\n",
       "ipx/spx          1\n",
       "ipv6             1\n",
       "pim              1\n",
       "Name: Proto, dtype: int64"
      ]
     },
     "execution_count": 22,
     "metadata": {},
     "output_type": "execute_result"
    }
   ],
   "source": [
    "df['Proto'].value_counts()"
   ]
  },
  {
   "cell_type": "code",
   "execution_count": 23,
   "id": "4efe7d39",
   "metadata": {},
   "outputs": [
    {
     "data": {
      "text/plain": [
       "<->    71234\n",
       " ->    32855\n",
       "<?>     2030\n",
       "<-       806\n",
       " ?>      270\n",
       "who       56\n",
       "Name: Dir, dtype: int64"
      ]
     },
     "execution_count": 23,
     "metadata": {},
     "output_type": "execute_result"
    }
   ],
   "source": [
    "df['Dir'].value_counts()"
   ]
  },
  {
   "cell_type": "code",
   "execution_count": 24,
   "id": "f55c611a",
   "metadata": {},
   "outputs": [
    {
     "data": {
      "text/plain": [
       "flow=Background-UDP-Established                             37342\n",
       "flow=To-Background-UDP-CVUT-DNS-Server                      30568\n",
       "flow=Background-TCP-Established                              9363\n",
       "flow=Background-Established-cmpgw-CVUT                       6981\n",
       "flow=From-Botnet-V52-1-ICMP                                  4144\n",
       "flow=From-Botnet-V52-2-ICMP                                  3999\n",
       "flow=Background-Attempt-cmpgw-CVUT                           3378\n",
       "flow=Background                                              3230\n",
       "flow=From-Normal-V52-Grill                                   2113\n",
       "flow=Background-UDP-Attempt                                  1951\n",
       "flow=Background-TCP-Attempt                                  1244\n",
       "flow=To-Background-CVUT-Proxy                                 661\n",
       "flow=From-Normal-V52-Stribrek                                 581\n",
       "flow=Background-UDP-NTP-Established-1                         287\n",
       "flow=To-Background-CVUT-WebServer                             162\n",
       "flow=Background-google-analytics13                            134\n",
       "flow=Background-google-analytics10                            103\n",
       "flow=Background-google-analytics8                              95\n",
       "flow=Background-google-analytics3                              76\n",
       "flow=Background-google-analytics7                              74\n",
       "flow=Background-google-analytics12                             70\n",
       "flow=Background-google-analytics15                             69\n",
       "flow=Background-google-analytics6                              54\n",
       "flow=Background-google-analytics2                              54\n",
       "flow=Background-google-analytics16                             53\n",
       "flow=From-Background-CVUT-Proxy                                48\n",
       "flow=Background-google-analytics14                             48\n",
       "flow=Background-google-analytics5                              47\n",
       "flow=Background-google-analytics9                              43\n",
       "flow=Background-google-analytics4                              41\n",
       "flow=To-Background-MatLab-Server                               41\n",
       "flow=Background-google-analytics1                              40\n",
       "flow=Background-google-analytics11                             38\n",
       "flow=Background-google-webmail                                 26\n",
       "flow=Background-ajax.google                                    14\n",
       "flow=Background-google-pop                                     13\n",
       "flow=From-Normal-V52-Jist                                      11\n",
       "flow=To-Background-Grill                                        9\n",
       "flow=To-Normal-V52-UDP-NTP-server                               8\n",
       "flow=To-Background-Stribrek                                     6\n",
       "flow=From-Botnet-V52-1-UDP-DNS                                  4\n",
       "flow=To-Background-Jist                                         4\n",
       "flow=From-Botnet-V52-2-UDP-DNS                                  4\n",
       "flow=From-Botnet-V52-3-UDP-DNS                                  4\n",
       "flow=From-Normal-V52-MatLab-Server                              2\n",
       "flow=Background-www.fel.cvut.cz                                 2\n",
       "flow=Normal-V52-HTTP-windowsupdate                              1\n",
       "flow=From-Botnet-V52-3-TCP-CC106-IRC-Not-Encrypted              1\n",
       "flow=From-Normal-V52-UDP-CVUT-DNS-Server                        1\n",
       "flow=From-Botnet-V52-2-TCP-CC106-IRC-Not-Encrypted              1\n",
       "flow=From-Botnet-V52-1-TCP-Established                          1\n",
       "flow=From-Botnet-V52-2-UDP-Attempt                              1\n",
       "flow=From-Botnet-V52-3-UDP-Attempt                              1\n",
       "flow=From-Botnet-V52-3-TCP-HTTP-Google-Net-Established-6        1\n",
       "flow=From-Normal-V52-CVUT-WebServer                             1\n",
       "flow=From-Botnet-V52-2-TCP-HTTP-Google-Net-Established-6        1\n",
       "flow=From-Botnet-V52-1-UDP-Attempt                              1\n",
       "flow=From-Botnet-V52-1-TCP-HTTP-Google-Net-Established-6        1\n",
       "Name: Label, dtype: int64"
      ]
     },
     "execution_count": 24,
     "metadata": {},
     "output_type": "execute_result"
    }
   ],
   "source": [
    "df['Label'].value_counts()"
   ]
  },
  {
   "cell_type": "code",
   "execution_count": 25,
   "id": "39d9d24f",
   "metadata": {},
   "outputs": [
    {
     "name": "stdout",
     "output_type": "stream",
     "text": [
      "StartTime     object\n",
      "Dur          float64\n",
      "Proto         object\n",
      "SrcAddr       object\n",
      "Sport         object\n",
      "Dir           object\n",
      "DstAddr       object\n",
      "Dport         object\n",
      "State         object\n",
      "sTos         float64\n",
      "dTos         float64\n",
      "TotPkts        int64\n",
      "TotBytes       int64\n",
      "SrcBytes       int64\n",
      "Label         object\n",
      "dtype: object\n"
     ]
    }
   ],
   "source": [
    "print(df.dtypes)"
   ]
  },
  {
   "cell_type": "code",
   "execution_count": 26,
   "id": "634c1655",
   "metadata": {},
   "outputs": [
    {
     "name": "stdout",
     "output_type": "stream",
     "text": [
      "Dur         float64\n",
      "Proto        object\n",
      "Sport        object\n",
      "Dir          object\n",
      "Dport        object\n",
      "sTos        float64\n",
      "dTos        float64\n",
      "TotPkts       int64\n",
      "TotBytes      int64\n",
      "SrcBytes      int64\n",
      "Label        object\n",
      "dtype: object\n"
     ]
    }
   ],
   "source": [
    "## DROP COLUMNS NOT NECESSARI\n",
    "df.drop('StartTime',axis = 1,inplace= True)\n",
    "df.drop('DstAddr',axis = 1,inplace= True)\n",
    "df.drop('State',axis = 1,inplace= True)\n",
    "df.drop('SrcAddr',axis = 1,inplace= True)\n",
    "print(df.dtypes)"
   ]
  },
  {
   "cell_type": "code",
   "execution_count": 27,
   "id": "f9baf296",
   "metadata": {},
   "outputs": [],
   "source": [
    "## MAP STRINGS TO INT\n",
    "pmap = {'udp':0, 'tcp':1, 'icmp':2, 'igmp':3, 'rtcp':4, 'arp':5, 'rtp':6, 'ipv6-icmp':7, 'udt':8, 'rarp':9, 'ipx/spx':10, 'ipv6':11, 'pim':12}\n",
    "df['Proto'] = df['Proto'].map(pmap)\n",
    "\n",
    "dirmap = {'<->':0, ' ->':1, '<?>':2, '<- ':3, ' ?>':4, 'who':5}\n",
    "df['Dir'] = df['Dir'].map(dirmap)"
   ]
  },
  {
   "cell_type": "code",
   "execution_count": 28,
   "id": "b2a30daa",
   "metadata": {},
   "outputs": [
    {
     "data": {
      "text/plain": [
       "0     74884\n",
       "1     19307\n",
       "2     12805\n",
       "3        82\n",
       "4        76\n",
       "5        54\n",
       "6        21\n",
       "7        12\n",
       "8         5\n",
       "9         2\n",
       "10        1\n",
       "11        1\n",
       "12        1\n",
       "Name: Proto, dtype: int64"
      ]
     },
     "execution_count": 28,
     "metadata": {},
     "output_type": "execute_result"
    }
   ],
   "source": [
    "df['Proto'].value_counts()"
   ]
  },
  {
   "cell_type": "code",
   "execution_count": 29,
   "id": "65c3e389",
   "metadata": {},
   "outputs": [
    {
     "data": {
      "text/plain": [
       "0.0    71234\n",
       "1.0    32855\n",
       "2.0     2030\n",
       "4.0      270\n",
       "5.0       56\n",
       "Name: Dir, dtype: int64"
      ]
     },
     "execution_count": 29,
     "metadata": {},
     "output_type": "execute_result"
    }
   ],
   "source": [
    "df['Dir'].value_counts()"
   ]
  },
  {
   "cell_type": "code",
   "execution_count": 30,
   "id": "c250895a",
   "metadata": {},
   "outputs": [
    {
     "name": "stdout",
     "output_type": "stream",
     "text": [
      "Dur         float64\n",
      "Proto         int64\n",
      "TotPkts       int64\n",
      "TotBytes      int64\n",
      "SrcBytes      int64\n",
      "Label        object\n",
      "dtype: object\n"
     ]
    },
    {
     "name": "stderr",
     "output_type": "stream",
     "text": [
      "C:\\Users\\crist\\AppData\\Local\\Temp\\ipykernel_9364\\601863964.py:2: FutureWarning: In a future version of pandas all arguments of DataFrame.dropna will be keyword-only.\n",
      "  df = df.dropna('columns') ## ports are dropped due to a wrong register\n"
     ]
    }
   ],
   "source": [
    "## DROP COLUMNS WITH NO CHANGING DATA OR NANs\n",
    "df = df.dropna('columns') ## ports are dropped due to a wrong register\n",
    "df = df[[col for col in df if df[col].nunique() > 1]]\n",
    "print(df.dtypes)"
   ]
  },
  {
   "cell_type": "code",
   "execution_count": 31,
   "id": "44b10875",
   "metadata": {},
   "outputs": [
    {
     "name": "stderr",
     "output_type": "stream",
     "text": [
      "C:\\Users\\crist\\AppData\\Local\\Temp\\ipykernel_9364\\904150308.py:1: FutureWarning: The default value of numeric_only in DataFrame.corr is deprecated. In a future version, it will default to False. Select only valid columns or specify the value of numeric_only to silence this warning.\n",
      "  corr = df.corr()\n"
     ]
    },
    {
     "data": {
      "image/png": "[encoded data removed]",
      "text/plain": [
       "<Figure size 1500x1200 with 2 Axes>"
      ]
     },
     "metadata": {},
     "output_type": "display_data"
    }
   ],
   "source": [
    "corr = df.corr()\n",
    "plt.figure(figsize=(15,12))\n",
    "sns.heatmap(corr)\n",
    "plt.show()"
   ]
  },
  {
   "cell_type": "code",
   "execution_count": 32,
   "id": "d874c0cb",
   "metadata": {},
   "outputs": [
    {
     "name": "stdout",
     "output_type": "stream",
     "text": [
      "Shape before feature reduction:  (107251, 6)\n",
      "Features to drop\n",
      "[]\n",
      "Shape after feature reduction:  (107251, 6)\n"
     ]
    },
    {
     "name": "stderr",
     "output_type": "stream",
     "text": [
      "C:\\Users\\crist\\AppData\\Local\\Temp\\ipykernel_9364\\3168038546.py:3: FutureWarning: The default value of numeric_only in DataFrame.corr is deprecated. In a future version, it will default to False. Select only valid columns or specify the value of numeric_only to silence this warning.\n",
      "  corr_matrix = df.corr().abs()\n"
     ]
    }
   ],
   "source": [
    "cor_thr=0.98\n",
    "print('Shape before feature reduction: ', df.shape)\n",
    "corr_matrix = df.corr().abs()\n",
    "upper = corr_matrix.where(np.triu(np.ones(corr_matrix.shape), k=1).astype(np.bool_))\n",
    "to_drop = [column for column in upper.columns if any(upper[column] > cor_thr)]\n",
    "print('Features to drop')\n",
    "print(to_drop)\n",
    "for i in to_drop:\n",
    "    df.drop(i,axis = 1,inplace = True)\n",
    "print('Shape after feature reduction: ', df.shape)"
   ]
  },
  {
   "cell_type": "code",
   "execution_count": 33,
   "id": "c7618890",
   "metadata": {},
   "outputs": [
    {
     "name": "stdout",
     "output_type": "stream",
     "text": [
      "(71858, 5) (35393, 5)\n",
      "(71858, 1) (35393, 1)\n",
      "[[8.55175071e-02 8.33333333e-02 8.63125362e-02 8.13261587e-02\n",
      "  4.51966456e-02]\n",
      " [5.12433371e-01 8.33333333e-02 6.55323081e-01 2.62848077e-01\n",
      "  3.09364151e-01]\n",
      " [1.00000000e+00 8.33333333e-02 1.58558999e-02 1.46017637e-02\n",
      "  3.12756991e-01]\n",
      " ...\n",
      " [2.01587964e-19 0.00000000e+00 2.00428516e-06 9.16974790e-07\n",
      "  2.01986021e-05]\n",
      " [2.65626633e-20 0.00000000e+00 2.00428516e-06 2.93749500e-07\n",
      "  3.45387352e-06]\n",
      " [2.53271906e-20 0.00000000e+00 2.00428516e-06 2.91764706e-07\n",
      "  2.88551459e-06]]\n",
      "                                         Label\n",
      "0                              flow=Background\n",
      "1                              flow=Background\n",
      "2                              flow=Background\n",
      "3                              flow=Background\n",
      "4                              flow=Background\n",
      "...                                        ...\n",
      "107246  flow=To-Background-UDP-CVUT-DNS-Server\n",
      "107247      flow=Background-Attempt-cmpgw-CVUT\n",
      "107248         flow=Background-UDP-Established\n",
      "107249  flow=To-Background-UDP-CVUT-DNS-Server\n",
      "107250  flow=To-Background-UDP-CVUT-DNS-Server\n",
      "\n",
      "[107251 rows x 1 columns]\n"
     ]
    }
   ],
   "source": [
    "from sklearn.model_selection import train_test_split\n",
    "from sklearn.preprocessing import MinMaxScaler\n",
    "\n",
    "# Target variable and train set\n",
    "Y = df[['Label']]\n",
    "X = df.drop(['Label',], axis=1)\n",
    "\n",
    "sc = MinMaxScaler()\n",
    "X = sc.fit_transform(X)\n",
    "\n",
    "# Split test and train data \n",
    "X_train, X_test, Y_train, Y_test = train_test_split(X, Y, test_size=0.33, random_state=42)\n",
    "print(X_train.shape, X_test.shape)\n",
    "print(Y_train.shape, Y_test.shape)\n",
    "\n",
    "print(X)\n",
    "print(Y)"
   ]
  },
  {
   "cell_type": "code",
   "execution_count": 35,
   "id": "aa450662",
   "metadata": {},
   "outputs": [
    {
     "name": "stdout",
     "output_type": "stream",
     "text": [
      "Epoch 1/50\n"
     ]
    },
    {
     "name": "stderr",
     "output_type": "stream",
     "text": [
      "C:\\Users\\crist\\AppData\\Local\\Temp\\ipykernel_9364\\3654629724.py:14: DeprecationWarning: KerasClassifier is deprecated, use Sci-Keras (https://github.com/adriangb/scikeras) instead. See https://www.adriangb.com/scikeras/stable/migration.html for help migrating.\n",
      "  model_ann = KerasClassifier(build_fn=ann,epochs=50,batch_size=64)\n"
     ]
    },
    {
     "ename": "ValueError",
     "evalue": "in user code:\n\n    File \"C:\\Users\\crist\\AppData\\Local\\Programs\\Python\\Python310\\lib\\site-packages\\keras\\engine\\training.py\", line 1160, in train_function  *\n        return step_function(self, iterator)\n    File \"C:\\Users\\crist\\AppData\\Local\\Programs\\Python\\Python310\\lib\\site-packages\\keras\\engine\\training.py\", line 1146, in step_function  **\n        outputs = model.distribute_strategy.run(run_step, args=(data,))\n    File \"C:\\Users\\crist\\AppData\\Local\\Programs\\Python\\Python310\\lib\\site-packages\\keras\\engine\\training.py\", line 1135, in run_step  **\n        outputs = model.train_step(data)\n    File \"C:\\Users\\crist\\AppData\\Local\\Programs\\Python\\Python310\\lib\\site-packages\\keras\\engine\\training.py\", line 994, in train_step\n        loss = self.compute_loss(x, y, y_pred, sample_weight)\n    File \"C:\\Users\\crist\\AppData\\Local\\Programs\\Python\\Python310\\lib\\site-packages\\keras\\engine\\training.py\", line 1052, in compute_loss\n        return self.compiled_loss(\n    File \"C:\\Users\\crist\\AppData\\Local\\Programs\\Python\\Python310\\lib\\site-packages\\keras\\engine\\compile_utils.py\", line 265, in __call__\n        loss_value = loss_obj(y_t, y_p, sample_weight=sw)\n    File \"C:\\Users\\crist\\AppData\\Local\\Programs\\Python\\Python310\\lib\\site-packages\\keras\\losses.py\", line 152, in __call__\n        losses = call_fn(y_true, y_pred)\n    File \"C:\\Users\\crist\\AppData\\Local\\Programs\\Python\\Python310\\lib\\site-packages\\keras\\losses.py\", line 272, in call  **\n        return ag_fn(y_true, y_pred, **self._fn_kwargs)\n    File \"C:\\Users\\crist\\AppData\\Local\\Programs\\Python\\Python310\\lib\\site-packages\\keras\\losses.py\", line 1990, in categorical_crossentropy\n        return backend.categorical_crossentropy(\n    File \"C:\\Users\\crist\\AppData\\Local\\Programs\\Python\\Python310\\lib\\site-packages\\keras\\backend.py\", line 5529, in categorical_crossentropy\n        target.shape.assert_is_compatible_with(output.shape)\n\n    ValueError: Shapes (None, 52) and (None, 5) are incompatible\n",
     "output_type": "error",
     "traceback": [
      "\u001b[1;31m---------------------------------------------------------------------------\u001b[0m",
      "\u001b[1;31mValueError\u001b[0m                                Traceback (most recent call last)",
      "Cell \u001b[1;32mIn [35], line 17\u001b[0m\n\u001b[0;32m     15\u001b[0m start_time \u001b[38;5;241m=\u001b[39m time\u001b[38;5;241m.\u001b[39mtime()\n\u001b[0;32m     16\u001b[0m callback \u001b[38;5;241m=\u001b[39m EarlyStopping(monitor\u001b[38;5;241m=\u001b[39m\u001b[38;5;124m'\u001b[39m\u001b[38;5;124mloss\u001b[39m\u001b[38;5;124m'\u001b[39m, patience\u001b[38;5;241m=\u001b[39m\u001b[38;5;241m5\u001b[39m)\n\u001b[1;32m---> 17\u001b[0m \u001b[43mmodel_ann\u001b[49m\u001b[38;5;241;43m.\u001b[39;49m\u001b[43mfit\u001b[49m\u001b[43m(\u001b[49m\u001b[43mX_train\u001b[49m\u001b[43m,\u001b[49m\u001b[43m \u001b[49m\u001b[43mY_train\u001b[49m\u001b[38;5;241;43m.\u001b[39;49m\u001b[43mvalues\u001b[49m\u001b[38;5;241;43m.\u001b[39;49m\u001b[43mravel\u001b[49m\u001b[43m(\u001b[49m\u001b[43m)\u001b[49m\u001b[43m,\u001b[49m\u001b[43m \u001b[49m\u001b[43mcallbacks\u001b[49m\u001b[38;5;241;43m=\u001b[39;49m\u001b[43m[\u001b[49m\u001b[43mcallback\u001b[49m\u001b[43m]\u001b[49m\u001b[43m)\u001b[49m\n\u001b[0;32m     18\u001b[0m time_train_ann \u001b[38;5;241m=\u001b[39m time\u001b[38;5;241m.\u001b[39mtime() \u001b[38;5;241m-\u001b[39m start_time\n",
      "File \u001b[1;32m~\\AppData\\Local\\Programs\\Python\\Python310\\lib\\site-packages\\keras\\wrappers\\scikit_learn.py:248\u001b[0m, in \u001b[0;36mKerasClassifier.fit\u001b[1;34m(self, x, y, **kwargs)\u001b[0m\n\u001b[0;32m    246\u001b[0m     \u001b[38;5;28;01mraise\u001b[39;00m \u001b[38;5;167;01mValueError\u001b[39;00m(\u001b[38;5;124m\"\u001b[39m\u001b[38;5;124mInvalid shape for y: \u001b[39m\u001b[38;5;124m\"\u001b[39m \u001b[38;5;241m+\u001b[39m \u001b[38;5;28mstr\u001b[39m(y\u001b[38;5;241m.\u001b[39mshape))\n\u001b[0;32m    247\u001b[0m \u001b[38;5;28mself\u001b[39m\u001b[38;5;241m.\u001b[39mn_classes_ \u001b[38;5;241m=\u001b[39m \u001b[38;5;28mlen\u001b[39m(\u001b[38;5;28mself\u001b[39m\u001b[38;5;241m.\u001b[39mclasses_)\n\u001b[1;32m--> 248\u001b[0m \u001b[38;5;28;01mreturn\u001b[39;00m \u001b[38;5;28msuper\u001b[39m()\u001b[38;5;241m.\u001b[39mfit(x, y, \u001b[38;5;241m*\u001b[39m\u001b[38;5;241m*\u001b[39mkwargs)\n",
      "File \u001b[1;32m~\\AppData\\Local\\Programs\\Python\\Python310\\lib\\site-packages\\keras\\wrappers\\scikit_learn.py:175\u001b[0m, in \u001b[0;36mBaseWrapper.fit\u001b[1;34m(self, x, y, **kwargs)\u001b[0m\n\u001b[0;32m    172\u001b[0m fit_args \u001b[38;5;241m=\u001b[39m copy\u001b[38;5;241m.\u001b[39mdeepcopy(\u001b[38;5;28mself\u001b[39m\u001b[38;5;241m.\u001b[39mfilter_sk_params(Sequential\u001b[38;5;241m.\u001b[39mfit))\n\u001b[0;32m    173\u001b[0m fit_args\u001b[38;5;241m.\u001b[39mupdate(kwargs)\n\u001b[1;32m--> 175\u001b[0m history \u001b[38;5;241m=\u001b[39m \u001b[38;5;28mself\u001b[39m\u001b[38;5;241m.\u001b[39mmodel\u001b[38;5;241m.\u001b[39mfit(x, y, \u001b[38;5;241m*\u001b[39m\u001b[38;5;241m*\u001b[39mfit_args)\n\u001b[0;32m    177\u001b[0m \u001b[38;5;28;01mreturn\u001b[39;00m history\n",
      "File \u001b[1;32m~\\AppData\\Local\\Programs\\Python\\Python310\\lib\\site-packages\\keras\\utils\\traceback_utils.py:70\u001b[0m, in \u001b[0;36mfilter_traceback.<locals>.error_handler\u001b[1;34m(*args, **kwargs)\u001b[0m\n\u001b[0;32m     67\u001b[0m     filtered_tb \u001b[38;5;241m=\u001b[39m _process_traceback_frames(e\u001b[38;5;241m.\u001b[39m__traceback__)\n\u001b[0;32m     68\u001b[0m     \u001b[38;5;66;03m# To get the full stack trace, call:\u001b[39;00m\n\u001b[0;32m     69\u001b[0m     \u001b[38;5;66;03m# `tf.debugging.disable_traceback_filtering()`\u001b[39;00m\n\u001b[1;32m---> 70\u001b[0m     \u001b[38;5;28;01mraise\u001b[39;00m e\u001b[38;5;241m.\u001b[39mwith_traceback(filtered_tb) \u001b[38;5;28;01mfrom\u001b[39;00m \u001b[38;5;28mNone\u001b[39m\n\u001b[0;32m     71\u001b[0m \u001b[38;5;28;01mfinally\u001b[39;00m:\n\u001b[0;32m     72\u001b[0m     \u001b[38;5;28;01mdel\u001b[39;00m filtered_tb\n",
      "File \u001b[1;32m~\\AppData\\Local\\Temp\\__autograph_generated_filejgn59zxt.py:15\u001b[0m, in \u001b[0;36mouter_factory.<locals>.inner_factory.<locals>.tf__train_function\u001b[1;34m(iterator)\u001b[0m\n\u001b[0;32m     13\u001b[0m \u001b[38;5;28;01mtry\u001b[39;00m:\n\u001b[0;32m     14\u001b[0m     do_return \u001b[38;5;241m=\u001b[39m \u001b[38;5;28;01mTrue\u001b[39;00m\n\u001b[1;32m---> 15\u001b[0m     retval_ \u001b[38;5;241m=\u001b[39m ag__\u001b[38;5;241m.\u001b[39mconverted_call(ag__\u001b[38;5;241m.\u001b[39mld(step_function), (ag__\u001b[38;5;241m.\u001b[39mld(\u001b[38;5;28mself\u001b[39m), ag__\u001b[38;5;241m.\u001b[39mld(iterator)), \u001b[38;5;28;01mNone\u001b[39;00m, fscope)\n\u001b[0;32m     16\u001b[0m \u001b[38;5;28;01mexcept\u001b[39;00m:\n\u001b[0;32m     17\u001b[0m     do_return \u001b[38;5;241m=\u001b[39m \u001b[38;5;28;01mFalse\u001b[39;00m\n",
      "\u001b[1;31mValueError\u001b[0m: in user code:\n\n    File \"C:\\Users\\crist\\AppData\\Local\\Programs\\Python\\Python310\\lib\\site-packages\\keras\\engine\\training.py\", line 1160, in train_function  *\n        return step_function(self, iterator)\n    File \"C:\\Users\\crist\\AppData\\Local\\Programs\\Python\\Python310\\lib\\site-packages\\keras\\engine\\training.py\", line 1146, in step_function  **\n        outputs = model.distribute_strategy.run(run_step, args=(data,))\n    File \"C:\\Users\\crist\\AppData\\Local\\Programs\\Python\\Python310\\lib\\site-packages\\keras\\engine\\training.py\", line 1135, in run_step  **\n        outputs = model.train_step(data)\n    File \"C:\\Users\\crist\\AppData\\Local\\Programs\\Python\\Python310\\lib\\site-packages\\keras\\engine\\training.py\", line 994, in train_step\n        loss = self.compute_loss(x, y, y_pred, sample_weight)\n    File \"C:\\Users\\crist\\AppData\\Local\\Programs\\Python\\Python310\\lib\\site-packages\\keras\\engine\\training.py\", line 1052, in compute_loss\n        return self.compiled_loss(\n    File \"C:\\Users\\crist\\AppData\\Local\\Programs\\Python\\Python310\\lib\\site-packages\\keras\\engine\\compile_utils.py\", line 265, in __call__\n        loss_value = loss_obj(y_t, y_p, sample_weight=sw)\n    File \"C:\\Users\\crist\\AppData\\Local\\Programs\\Python\\Python310\\lib\\site-packages\\keras\\losses.py\", line 152, in __call__\n        losses = call_fn(y_true, y_pred)\n    File \"C:\\Users\\crist\\AppData\\Local\\Programs\\Python\\Python310\\lib\\site-packages\\keras\\losses.py\", line 272, in call  **\n        return ag_fn(y_true, y_pred, **self._fn_kwargs)\n    File \"C:\\Users\\crist\\AppData\\Local\\Programs\\Python\\Python310\\lib\\site-packages\\keras\\losses.py\", line 1990, in categorical_crossentropy\n        return backend.categorical_crossentropy(\n    File \"C:\\Users\\crist\\AppData\\Local\\Programs\\Python\\Python310\\lib\\site-packages\\keras\\backend.py\", line 5529, in categorical_crossentropy\n        target.shape.assert_is_compatible_with(output.shape)\n\n    ValueError: Shapes (None, 52) and (None, 5) are incompatible\n"
     ]
    }
   ],
   "source": [
    "from keras.models import Sequential\n",
    "from keras.layers import Dense\n",
    "from keras.wrappers.scikit_learn import KerasClassifier\n",
    "from keras.callbacks import EarlyStopping\n",
    "\n",
    "def ann():\n",
    "    model = Sequential()\n",
    "    model.add(Dense(30,input_dim =5,activation = 'relu',kernel_initializer='random_uniform'))\n",
    "    model.add(Dense(5,activation='sigmoid',kernel_initializer='random_uniform'))\n",
    "    model.add(Dense(5,activation='softmax'))\n",
    "    model.compile(loss ='categorical_crossentropy',optimizer = 'adam',metrics = ['accuracy'])\n",
    "    return model\n",
    "\n",
    "model_ann = KerasClassifier(build_fn=ann,epochs=5,batch_size=64)\n",
    "start_time = time.time()\n",
    "callback = EarlyStopping(monitor='loss', patience=5)\n",
    "model_ann.fit(X_train, Y_train.values.ravel(), callbacks=[callback])\n",
    "time_train_ann = time.time() - start_time"
   ]
  },
  {
   "cell_type": "code",
   "execution_count": null,
   "id": "05681753",
   "metadata": {
    "scrolled": false
   },
   "outputs": [],
   "source": [
    "loss = history.history['loss']\n",
    "accuracy = history.history['accuracy']\n",
    "\n",
    "print(loss)\n",
    "print(accuracy)\n",
    "    \n",
    "plt.rcParams['figure.figsize'] = [10, 5]\n",
    "plt.subplot(1, 2, 1)\n",
    "plt.plot(range(0, 50), loss, 'bo', label='Training loss', color='red')\n",
    "plt.title('Training loss')\n",
    "plt.xlabel('Epochs')\n",
    "plt.ylabel('Loss')\n",
    "plt.legend()\n",
    "\n",
    "plt.subplot(1, 2, 2)\n",
    "plt.plot(range(0, 50), accuracy, 'bo', label='Training acc', color='red')\n",
    "plt.title('Training accuracy')\n",
    "plt.xlabel('Epochs')\n",
    "plt.ylabel('Accuracy')\n",
    "plt.legend()\n",
    "plt.tight_layout()\n",
    "plt.show()"
   ]
  },
  {
   "cell_type": "code",
   "execution_count": null,
   "id": "2abc5cd1",
   "metadata": {},
   "outputs": [],
   "source": [
    "from sklearn.metrics import accuracy_score\n",
    "def plot_confusion_matrix(Y_real, Y_pred, title=None):\n",
    "    labels=np.unique(Y_real)\n",
    "    nc=len(labels)\n",
    "    data=np.zeros((nc,nc))\n",
    "    pairs=zip(Y_real,Y_pred)\n",
    "    pairs=list(pairs)\n",
    "    for p in pairs: data[np.where(labels==p[0]),np.where(labels==p[1])]+=1\n",
    "    row_total=np.sum(data,axis=1)\n",
    "    data=data/row_total.reshape((nc,1))\n",
    "    sns.set(color_codes=True)\n",
    "    plt.figure(1, figsize=(9, 6))\n",
    "    plt.title('Confusion Matrix') if title is None else plt.title(title)\n",
    "    sns.set(font_scale=1.4)\n",
    "    ax = sns.heatmap(data, annot=True, cmap='Blues', cbar_kws={'label': 'Scale'})\n",
    "    ax.set_xticklabels(labels)\n",
    "    ax.set_yticklabels(labels)\n",
    "    ax.set(ylabel='True Label', xlabel='Predicted Label')\n",
    "    plt.show()\n",
    "    \n",
    "  \n",
    "print('ANN evaluation')\n",
    "start_time = time.time()\n",
    "Y_train_pred=model_ann.predict(X_train)\n",
    "Y_test_pred=model_ann.predict(X_test)\n",
    "time_eval_ann=time.time()-start_time\n",
    "\n",
    "print('Overall accuracy training: ', accuracy_score(Y_train,Y_train_pred))\n",
    "print('Overall accuracy test: ', accuracy_score(Y_test,Y_test_pred))\n",
    "\n",
    "print('Training time (seconds per sample): ', time_train_ann/float(Y_train.shape[0]))\n",
    "print('Evaluation time (seconds per sample): ', \n",
    "time_eval_ann/(float(Y_train.shape[0])+float(Y_test.shape[0])))\n",
    "\n",
    "plot_confusion_matrix(Y_train.values.ravel(),Y_train_pred, title='ANN - Training')\n",
    "plot_confusion_matrix(Y_test.values.ravel(),Y_test_pred, title='ANN - Testing')\n",
    "    \n"
   ]
  }
 ],
 "metadata": {
  "kernelspec": {
   "display_name": "Python 3 (ipykernel)",
   "language": "python",
   "name": "python3"
  },
  "language_info": {
   "codemirror_mode": {
    "name": "ipython",
    "version": 3
   },
   "file_extension": ".py",
   "mimetype": "text/x-python",
   "name": "python",
   "nbconvert_exporter": "python",
   "pygments_lexer": "ipython3",
   "version": "3.10.0"
  }
 },
 "nbformat": 4,
 "nbformat_minor": 5
}
