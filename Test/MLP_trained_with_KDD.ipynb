{
 "cells": [
  {
   "cell_type": "code",
   "execution_count": null,
   "id": "41cdec25",
   "metadata": {},
   "outputs": [],
   "source": [
    "import os, time\n",
    "import pandas as pd\n",
    "import numpy as np\n",
    "import matplotlib.pyplot as plt\n",
    "import seaborn as sns\n",
    "data_path=os.getcwd()+'\\\\data'\n",
    "df=pd.read_csv(data_path+'\\\\kdd99.csv', sep=';')\n",
    "print(df.shape)"
   ]
  },
  {
   "cell_type": "code",
   "execution_count": null,
   "id": "942d5b72",
   "metadata": {},
   "outputs": [],
   "source": [
    "print(df.head())"
   ]
  },
  {
   "cell_type": "code",
   "execution_count": null,
   "id": "b5489a23",
   "metadata": {},
   "outputs": [],
   "source": [
    "# df['sTos'].value_counts()"
   ]
  },
  {
   "cell_type": "code",
   "execution_count": null,
   "id": "e59691dc",
   "metadata": {},
   "outputs": [],
   "source": [
    "# df['dTos'].value_counts()"
   ]
  },
  {
   "cell_type": "code",
   "execution_count": null,
   "id": "41342957",
   "metadata": {},
   "outputs": [],
   "source": [
    "# df['Proto'].value_counts()"
   ]
  },
  {
   "cell_type": "code",
   "execution_count": null,
   "id": "f286106e",
   "metadata": {},
   "outputs": [],
   "source": [
    "# df['Dir'].value_counts()"
   ]
  },
  {
   "cell_type": "code",
   "execution_count": null,
   "id": "adac0645",
   "metadata": {},
   "outputs": [],
   "source": [
    "# df['Label'].value_counts()"
   ]
  },
  {
   "cell_type": "code",
   "execution_count": null,
   "id": "506a71b5",
   "metadata": {},
   "outputs": [],
   "source": [
    "print(df.dtypes)"
   ]
  },
  {
   "cell_type": "code",
   "execution_count": null,
   "id": "f9baf296",
   "metadata": {},
   "outputs": [],
   "source": [
    "## DROP COLUMNS NOT NECESSARI\n",
    "# df.drop('StartTime',axis = 1,inplace= True)\n",
    "# df.drop('DstAddr',axis = 1,inplace= True)\n",
    "# df.drop('State',axis = 1,inplace= True)\n",
    "# df.drop('SrcAddr',axis = 1,inplace= True)\n",
    "# print(df.dtypes)\n",
    "\n",
    "print('Data types before transformation')\n",
    "print(df.dtypes)\n",
    "pmap = {'icmp':0,'tcp':1,'udp':2}\n",
    "df['protocol_type'] = df['protocol_type'].map(pmap)\n",
    "fmap = {'SF':0,'S0':1,'REJ':2,'RSTR':3,'RSTO':4,'SH':5 ,'S1':6 \n",
    ",'S2':7,'RSTOS0':8,'S3':9 ,'OTH':10}\n",
    "df['flag'] = df['flag'].map(fmap)\n",
    "df.drop('service',axis = 1,inplace= True)\n",
    "df.drop(['target',], axis=1, inplace= True)\n",
    "df = df.dropna('columns')\n",
    "df = df[[col for col in df if df[col].nunique() > 1]]\n",
    "print('Data types after transformation')\n",
    "print(df.dtypes)"
   ]
  },
  {
   "cell_type": "code",
   "execution_count": null,
   "id": "c250895a",
   "metadata": {},
   "outputs": [],
   "source": [
    "## MAP STRINGS TO INT\n",
    "# pmap = {'udp':0, 'tcp':1, 'icmp':2, 'igmp':3, 'rtcp':4, 'arp':5, 'rtp':6, 'ipv6-icmp':7, 'udt':8, 'rarp':9, 'ipx/spx':10, 'ipv6':11, 'pim':12}\n",
    "# df['Proto'] = df['Proto'].map(pmap)\n",
    "# \n",
    "# dirmap = {'<->':0, ' ->':1, '<?>':2, '<- ':3, ' ?>':4, 'who':5}\n",
    "# df['Dir'] = df['Dir'].map(dirmap)"
   ]
  },
  {
   "cell_type": "code",
   "execution_count": null,
   "id": "44b10875",
   "metadata": {},
   "outputs": [],
   "source": [
    "# df['Proto'].value_counts()"
   ]
  },
  {
   "cell_type": "code",
   "execution_count": null,
   "id": "d874c0cb",
   "metadata": {},
   "outputs": [],
   "source": [
    "# df['Dir'].value_counts()"
   ]
  },
  {
   "cell_type": "code",
   "execution_count": null,
   "id": "c7618890",
   "metadata": {},
   "outputs": [],
   "source": [
    "## DROP COLUMNS WITH NO CHANGING DATA OR NANs\n",
    "# df = df.dropna('columns') ## ports are dropped due to a wrong register\n",
    "# df = df[[col for col in df if df[col].nunique() > 1]]\n",
    "# print(df.dtypes)"
   ]
  },
  {
   "cell_type": "code",
   "execution_count": null,
   "id": "14786f66",
   "metadata": {
    "scrolled": false
   },
   "outputs": [],
   "source": [
    "corr = df.corr()\n",
    "plt.figure(figsize=(15,12))\n",
    "sns.heatmap(corr)\n",
    "plt.show()"
   ]
  },
  {
   "cell_type": "code",
   "execution_count": null,
   "id": "3ec6f5b1",
   "metadata": {},
   "outputs": [],
   "source": [
    "# cor_thr=0.98\n",
    "# print('Shape before feature reduction: ', df.shape)\n",
    "# corr_matrix = df.corr().abs()\n",
    "# upper = corr_matrix.where(np.triu(np.ones(corr_matrix.shape), k=1).astype(np.bool_))\n",
    "# to_drop = [column for column in upper.columns if any(upper[column] > cor_thr)]\n",
    "# print('Features to drop')\n",
    "# print(to_drop)\n",
    "# for i in to_drop:\n",
    "#     df.drop(i,axis = 1,inplace = True)\n",
    "# print('Shape after feature reduction: ', df.shape)\n",
    "\n",
    "cor_thr=0.98\n",
    "print('Shape before feature reduction: ', df.shape)\n",
    "corr_matrix = df.corr().abs()\n",
    "upper = corr_matrix.where(np.triu(np.ones(corr_matrix.shape), k=1).astype(np.bool))\n",
    "to_drop = [column for column in upper.columns if any(upper[column] > cor_thr)]\n",
    "print('Features to drop')\n",
    "print(to_drop)\n",
    "for i in to_drop:\n",
    "    df.drop(i,axis = 1,inplace = True)\n",
    "print('Shape after feature reduction: ', df.shape)"
   ]
  },
  {
   "cell_type": "code",
   "execution_count": null,
   "id": "993e0153",
   "metadata": {},
   "outputs": [],
   "source": [
    "from sklearn.model_selection import train_test_split\n",
    "from sklearn.preprocessing import MinMaxScaler\n",
    "\n",
    "# Target variable and train set\n",
    "# Y = df[['Label']]\n",
    "Y = df[['Attack_Type']]\n",
    "# X = df.drop(['Label',], axis=1)\n",
    "X = df.drop(['Attack_Type',], axis=1)\n",
    "\n",
    "sc = MinMaxScaler()\n",
    "X = sc.fit_transform(X)\n",
    "\n",
    "# Split test and train data \n",
    "X_train, X_test, Y_train, Y_test = train_test_split(X, Y, test_size=0.33, random_state=42)\n",
    "print(X_train.shape, X_test.shape)\n",
    "print(Y_train.shape, Y_test.shape)\n"
   ]
  },
  {
   "cell_type": "code",
   "execution_count": null,
   "id": "231a0d44",
   "metadata": {
    "scrolled": false
   },
   "outputs": [],
   "source": [
    "# from keras.models import Sequential\n",
    "# from keras.layers import Dense\n",
    "# from keras.wrappers.scikit_learn import KerasClassifier\n",
    "# from keras.callbacks import EarlyStopping\n",
    "# \n",
    "# def ann():\n",
    "#     model = Sequential()\n",
    "#     model.add(Dense(30,input_dim =32,activation = 'relu',kernel_initializer='random_uniform'))\n",
    "#     model.add(Dense(5,activation='sigmoid',kernel_initializer='random_uniform'))\n",
    "#     model.add(Dense(5,activation='softmax'))\n",
    "#     model.compile(loss ='categorical_crossentropy',optimizer = 'adam',metrics = ['accuracy'])\n",
    "#     return model\n",
    "# \n",
    "# model_ann = KerasClassifier(build_fn=ann,epochs=50,batch_size=64)\n",
    "# start_time = time.time()\n",
    "# callback = EarlyStopping(monitor='loss', patience=5)\n",
    "# model_ann.fit(X_train, Y_train.values.ravel(), callbacks=[callback])\n",
    "# time_train_ann = time.time() - start_time\n",
    "\n",
    "from keras.models import Sequential\n",
    "from keras.layers import Dense\n",
    "from keras.wrappers.scikit_learn import KerasClassifier\n",
    "from keras.callbacks import EarlyStopping\n",
    "\n",
    "def ann():\n",
    "    model = Sequential()\n",
    "    model.add(Dense(30,input_dim =38,activation = 'relu',kernel_initializer='random_uniform'))\n",
    "    model.add(Dense(5,activation='sigmoid',kernel_initializer='random_uniform'))\n",
    "    model.add(Dense(5,activation='softmax'))\n",
    "    model.compile(loss ='categorical_crossentropy',optimizer = 'adam',metrics = ['accuracy'])\n",
    "    model.summary()\n",
    "    return model\n",
    "\n",
    "model_ann = KerasClassifier(build_fn=ann,epochs=50,batch_size=64)\n",
    "start_time = time.time()\n",
    "\n",
    "callback = EarlyStopping(monitor='loss', patience=5)\n",
    "history = model_ann.fit(X_train, Y_train.values.ravel(), callbacks=[callback])\n",
    "\n",
    "history_dict = history.history\n",
    "history_dict.keys()\n",
    "\n",
    "\n",
    "\n",
    "time_train_ann = time.time() - start_time\n",
    "print('TIME TRAIN: ', time_train_ann)"
   ]
  },
  {
   "cell_type": "code",
   "execution_count": null,
   "id": "05681753",
   "metadata": {
    "scrolled": false
   },
   "outputs": [],
   "source": [
    "loss = history.history['loss']\n",
    "accuracy = history.history['accuracy']\n",
    "\n",
    "print(loss)\n",
    "print(accuracy)\n",
    "    \n",
    "plt.rcParams['figure.figsize'] = [10, 5]\n",
    "plt.subplot(1, 2, 1)\n",
    "plt.plot(range(0, 50), loss, 'bo', label='Training loss', color='red')\n",
    "plt.title('Training loss')\n",
    "plt.xlabel('Epochs')\n",
    "plt.ylabel('Loss')\n",
    "plt.legend()\n",
    "\n",
    "plt.subplot(1, 2, 2)\n",
    "plt.plot(range(0, 50), accuracy, 'bo', label='Training acc', color='red')\n",
    "plt.title('Training accuracy')\n",
    "plt.xlabel('Epochs')\n",
    "plt.ylabel('Accuracy')\n",
    "plt.legend()\n",
    "plt.tight_layout()\n",
    "plt.show()"
   ]
  },
  {
   "cell_type": "code",
   "execution_count": null,
   "id": "2abc5cd1",
   "metadata": {},
   "outputs": [],
   "source": [
    "from sklearn.metrics import accuracy_score\n",
    "def plot_confusion_matrix(Y_real, Y_pred, title=None):\n",
    "    labels=np.unique(Y_real)\n",
    "    nc=len(labels)\n",
    "    data=np.zeros((nc,nc))\n",
    "    pairs=zip(Y_real,Y_pred)\n",
    "    pairs=list(pairs)\n",
    "    for p in pairs: data[np.where(labels==p[0]),np.where(labels==p[1])]+=1\n",
    "    row_total=np.sum(data,axis=1)\n",
    "    data=data/row_total.reshape((nc,1))\n",
    "    sns.set(color_codes=True)\n",
    "    plt.figure(1, figsize=(9, 6))\n",
    "    plt.title('Confusion Matrix') if title is None else plt.title(title)\n",
    "    sns.set(font_scale=1.4)\n",
    "    ax = sns.heatmap(data, annot=True, cmap='Blues', cbar_kws={'label': 'Scale'})\n",
    "    ax.set_xticklabels(labels)\n",
    "    ax.set_yticklabels(labels)\n",
    "    ax.set(ylabel='True Label', xlabel='Predicted Label')\n",
    "    plt.show()\n",
    "    \n",
    "  \n",
    "print('ANN evaluation')\n",
    "start_time = time.time()\n",
    "Y_train_pred=model_ann.predict(X_train)\n",
    "Y_test_pred=model_ann.predict(X_test)\n",
    "time_eval_ann=time.time()-start_time\n",
    "\n",
    "print('Overall accuracy training: ', accuracy_score(Y_train,Y_train_pred))\n",
    "print('Overall accuracy test: ', accuracy_score(Y_test,Y_test_pred))\n",
    "\n",
    "print('Training time (seconds per sample): ', time_train_ann/float(Y_train.shape[0]))\n",
    "print('Evaluation time (seconds per sample): ', \n",
    "time_eval_ann/(float(Y_train.shape[0])+float(Y_test.shape[0])))\n",
    "\n",
    "plot_confusion_matrix(Y_train.values.ravel(),Y_train_pred, title='ANN - Training')\n",
    "plot_confusion_matrix(Y_test.values.ravel(),Y_test_pred, title='ANN - Testing')\n",
    "    \n"
   ]
  }
 ],
 "metadata": {
  "kernelspec": {
   "display_name": "Python 3 (ipykernel)",
   "language": "python",
   "name": "python3"
  },
  "language_info": {
   "codemirror_mode": {
    "name": "ipython",
    "version": 3
   },
   "file_extension": ".py",
   "mimetype": "text/x-python",
   "name": "python",
   "nbconvert_exporter": "python",
   "pygments_lexer": "ipython3",
   "version": "3.10.0"
  }
 },
 "nbformat": 4,
 "nbformat_minor": 5
}
